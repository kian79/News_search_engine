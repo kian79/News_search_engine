{
 "cells": [
  {
   "cell_type": "code",
   "execution_count": 118,
   "metadata": {
    "id": "s5za9qVfEsX3"
   },
   "outputs": [],
   "source": [
    "import pandas as pd\n",
    "from collections import Counter\n",
    "import re\n",
    "import pickle"
   ]
  },
  {
   "cell_type": "code",
   "execution_count": 99,
   "metadata": {
    "id": "gxfs2_RSIvvX"
   },
   "outputs": [],
   "source": [
    "DATA_PATH = ''"
   ]
  },
  {
   "cell_type": "code",
   "execution_count": 167,
   "metadata": {
    "colab": {
     "base_uri": "https://localhost:8080/",
     "height": 419
    },
    "id": "3cyJKXGlIx8-",
    "outputId": "fe23e649-c6d3-46b0-b357-45a612abe88c"
   },
   "outputs": [
    {
     "data": {
      "text/html": [
       "<div>\n",
       "<style scoped>\n",
       "    .dataframe tbody tr th:only-of-type {\n",
       "        vertical-align: middle;\n",
       "    }\n",
       "\n",
       "    .dataframe tbody tr th {\n",
       "        vertical-align: top;\n",
       "    }\n",
       "\n",
       "    .dataframe thead th {\n",
       "        text-align: right;\n",
       "    }\n",
       "</style>\n",
       "<table border=\"1\" class=\"dataframe\">\n",
       "  <thead>\n",
       "    <tr style=\"text-align: right;\">\n",
       "      <th></th>\n",
       "      <th>id</th>\n",
       "      <th>content</th>\n",
       "      <th>url</th>\n",
       "    </tr>\n",
       "  </thead>\n",
       "  <tbody>\n",
       "    <tr>\n",
       "      <th>0</th>\n",
       "      <td>1</td>\n",
       "      <td>به گزارش ایسنا، پس از استعفا علی نکویی رئیس شا...</td>\n",
       "      <td>https://www.isna.ir/news/99010100077/حواشی-در-...</td>\n",
       "    </tr>\n",
       "    <tr>\n",
       "      <th>1</th>\n",
       "      <td>2</td>\n",
       "      <td>به گزارش ایسنا، امیر محسنی با بیان اینکه این ل...</td>\n",
       "      <td>https://www.isna.ir/news/98122922468/ثبت-نام-ب...</td>\n",
       "    </tr>\n",
       "    <tr>\n",
       "      <th>2</th>\n",
       "      <td>3</td>\n",
       "      <td>آرش فرهادیان در گفت و گو با ایسنا، درباره آخری...</td>\n",
       "      <td>https://www.isna.ir/news/99010200541/فرهادیان-...</td>\n",
       "    </tr>\n",
       "    <tr>\n",
       "      <th>3</th>\n",
       "      <td>4</td>\n",
       "      <td>به گزارش ایسنا، فدراسیون بین المللی شنا قانونی...</td>\n",
       "      <td>https://www.isna.ir/news/99010200528/فناوری-وی...</td>\n",
       "    </tr>\n",
       "    <tr>\n",
       "      <th>4</th>\n",
       "      <td>5</td>\n",
       "      <td>به گزارش ایسنا، فدراسیون جهانی صعودهای ورزشی (...</td>\n",
       "      <td>https://www.isna.ir/news/99010200510/تعویق-زما...</td>\n",
       "    </tr>\n",
       "    <tr>\n",
       "      <th>...</th>\n",
       "      <td>...</td>\n",
       "      <td>...</td>\n",
       "      <td>...</td>\n",
       "    </tr>\n",
       "    <tr>\n",
       "      <th>6995</th>\n",
       "      <td>6996</td>\n",
       "      <td>**به گزارش ایسنا،** سیگار کشیدن، علت عمده‌ برو...</td>\n",
       "      <td>https://www.isna.ir/news/98092015395/اصلی-ترین...</td>\n",
       "    </tr>\n",
       "    <tr>\n",
       "      <th>6996</th>\n",
       "      <td>6997</td>\n",
       "      <td>**به گزارش ایسنا،** ​​​انسولین هورمونی است که ...</td>\n",
       "      <td>https://www.isna.ir/news/98092015327/انواع-دیا...</td>\n",
       "    </tr>\n",
       "    <tr>\n",
       "      <th>6997</th>\n",
       "      <td>6998</td>\n",
       "      <td>فاطمه احمدی - موزه‌دار - در گفت‌وگو با ایسنا، ...</td>\n",
       "      <td>https://www.isna.ir/news/98092216157/پنجمین-مو...</td>\n",
       "    </tr>\n",
       "    <tr>\n",
       "      <th>6998</th>\n",
       "      <td>6999</td>\n",
       "      <td>**به گزارش ایسنا،** سیگار کشیدن، علت عمده‌ برو...</td>\n",
       "      <td>https://www.isna.ir/news/98092015395/اصلی-ترین...</td>\n",
       "    </tr>\n",
       "    <tr>\n",
       "      <th>6999</th>\n",
       "      <td>7000</td>\n",
       "      <td>**به گزارش ایسنا،** ​​​انسولین هورمونی است که ...</td>\n",
       "      <td>https://www.isna.ir/news/98092015327/انواع-دیا...</td>\n",
       "    </tr>\n",
       "  </tbody>\n",
       "</table>\n",
       "<p>7000 rows × 3 columns</p>\n",
       "</div>"
      ],
      "text/plain": [
       "        id                                            content  \\\n",
       "0        1  به گزارش ایسنا، پس از استعفا علی نکویی رئیس شا...   \n",
       "1        2  به گزارش ایسنا، امیر محسنی با بیان اینکه این ل...   \n",
       "2        3  آرش فرهادیان در گفت و گو با ایسنا، درباره آخری...   \n",
       "3        4  به گزارش ایسنا، فدراسیون بین المللی شنا قانونی...   \n",
       "4        5  به گزارش ایسنا، فدراسیون جهانی صعودهای ورزشی (...   \n",
       "...    ...                                                ...   \n",
       "6995  6996  **به گزارش ایسنا،** سیگار کشیدن، علت عمده‌ برو...   \n",
       "6996  6997  **به گزارش ایسنا،** ​​​انسولین هورمونی است که ...   \n",
       "6997  6998  فاطمه احمدی - موزه‌دار - در گفت‌وگو با ایسنا، ...   \n",
       "6998  6999  **به گزارش ایسنا،** سیگار کشیدن، علت عمده‌ برو...   \n",
       "6999  7000  **به گزارش ایسنا،** ​​​انسولین هورمونی است که ...   \n",
       "\n",
       "                                                    url  \n",
       "0     https://www.isna.ir/news/99010100077/حواشی-در-...  \n",
       "1     https://www.isna.ir/news/98122922468/ثبت-نام-ب...  \n",
       "2     https://www.isna.ir/news/99010200541/فرهادیان-...  \n",
       "3     https://www.isna.ir/news/99010200528/فناوری-وی...  \n",
       "4     https://www.isna.ir/news/99010200510/تعویق-زما...  \n",
       "...                                                 ...  \n",
       "6995  https://www.isna.ir/news/98092015395/اصلی-ترین...  \n",
       "6996  https://www.isna.ir/news/98092015327/انواع-دیا...  \n",
       "6997  https://www.isna.ir/news/98092216157/پنجمین-مو...  \n",
       "6998  https://www.isna.ir/news/98092015395/اصلی-ترین...  \n",
       "6999  https://www.isna.ir/news/98092015327/انواع-دیا...  \n",
       "\n",
       "[7000 rows x 3 columns]"
      ]
     },
     "execution_count": 167,
     "metadata": {},
     "output_type": "execute_result"
    }
   ],
   "source": [
    "extra_data = pd.read_csv(DATA_PATH+'extra_data.csv')\n",
    "punctuations = extra_data['punctuations'].dropna().to_list()\n",
    "stop_words = extra_data['stop_words'].dropna().to_list()\n",
    "suffix_u = extra_data['suffix_u'].dropna().to_list()\n",
    "suffix = extra_data['suffix'].dropna().to_list()\n",
    "ar = extra_data['ar'].dropna().to_list()\n",
    "pr = extra_data['pr'].dropna().to_list()\n",
    "verb_post = extra_data['verb_post'].dropna().to_list()\n",
    "verb_pre = extra_data['verb_pre'].dropna().to_list()\n",
    "verbs = extra_data['verbs'].dropna().to_list()\n",
    "df = pd.read_csv(DATA_PATH+'IR_data.csv')\n",
    "mokasar = pd.read_csv(DATA_PATH+'mokasar.csv')\n",
    "df"
   ]
  },
  {
   "cell_type": "code",
   "execution_count": 101,
   "metadata": {},
   "outputs": [],
   "source": [
    "mokasar = mokasar.set_index('jam').T.to_dict('dict')"
   ]
  },
  {
   "cell_type": "code",
   "execution_count": 102,
   "metadata": {
    "colab": {
     "base_uri": "https://localhost:8080/"
    },
    "id": "LGJ7fzAWC9oJ",
    "outputId": "0f2672d2-6789-4d0c-e5f3-f6adeef7d95f"
   },
   "outputs": [
    {
     "data": {
      "text/plain": [
       "['ها', 'تر', 'ترین', 'گان', 'ان', 'ات', 'ی', 'ای', 'یی']"
      ]
     },
     "execution_count": 102,
     "metadata": {},
     "output_type": "execute_result"
    }
   ],
   "source": [
    "suffix"
   ]
  },
  {
   "cell_type": "code",
   "execution_count": 103,
   "metadata": {
    "id": "_AZhcc-XO8jl"
   },
   "outputs": [],
   "source": [
    "df = df.dropna()"
   ]
  },
  {
   "cell_type": "code",
   "execution_count": 104,
   "metadata": {
    "id": "qUDdr2kXI2eT"
   },
   "outputs": [],
   "source": [
    "def tokenize(text):\n",
    "  tokens = set([word for word in text.split()])\n",
    "  return tokens"
   ]
  },
  {
   "cell_type": "code",
   "execution_count": 105,
   "metadata": {
    "id": "2mFq4i6YSEvF"
   },
   "outputs": [],
   "source": [
    "def delete_suffix(word, suffix,u=1):\n",
    "  word_end = word.index(suffix[0])\n",
    "  if u and '\\u200c' in word and word.index('\\u200c') == word_end - 1 and word.endswith(suffix):\n",
    "    word = word[:word_end-1]\n",
    "  elif not u and suffix in word and word.replace(suffix,'') in all_words and word.endswith(suffix):\n",
    "    if suffix == 'گان':\n",
    "      word = word.replace(suffix,'ه')\n",
    "    else:\n",
    "      word = word.replace(suffix,'')\n",
    "  return word"
   ]
  },
  {
   "cell_type": "code",
   "execution_count": 106,
   "metadata": {
    "id": "zsEq67X_NuOM"
   },
   "outputs": [],
   "source": [
    "def delete_punctuations(word):\n",
    "  for punc in punctuations:\n",
    "    if punc in word:\n",
    "      word = word.replace(punc,\" \")\n",
    "  return word"
   ]
  },
  {
   "cell_type": "code",
   "execution_count": 107,
   "metadata": {},
   "outputs": [],
   "source": [
    "def delete_none_words(word):\n",
    "    persian_pattern =  \"^[\\u0643\\u0623\\u0629\\u0624\\u0621\\u0626\\u0622\\u0627\\u0628\\u067E\\u062A-\\u062C\\u0686\\u062D-\\u0632\\u0698\\u0633-\\u063A\\u0641\\u0642\\u06A9\\u06AF\\u0644-\\u0648\\u06CC]+$\"\n",
    "    if re.match(persian_pattern,word):\n",
    "        return word\n",
    "    return \"\""
   ]
  },
  {
   "cell_type": "code",
   "execution_count": 108,
   "metadata": {},
   "outputs": [],
   "source": [
    "def normalize_letters(word):\n",
    "    for i in len(ar):\n",
    "        if ar[i] in word:\n",
    "            word.replace(ar[i],pr[i])"
   ]
  },
  {
   "cell_type": "code",
   "execution_count": 109,
   "metadata": {},
   "outputs": [],
   "source": [
    "def normalize_mokasar(word):\n",
    "    if word in mokasar.keys():\n",
    "        word = mokasar[word]['mofrad']\n",
    "    return word"
   ]
  },
  {
   "cell_type": "code",
   "execution_count": 110,
   "metadata": {},
   "outputs": [],
   "source": [
    "def normalize_verb(verb):\n",
    "    for v in verbs:\n",
    "        if verb in v:\n",
    "            for p in verb_pre:\n",
    "                if verb.startswith(p):\n",
    "                    verb = verb.replace(p,'')\n",
    "            for p in verb_post:\n",
    "                if verb.endswith(p):\n",
    "                    verb = verb.replace(p,'')\n",
    "    return verb"
   ]
  },
  {
   "cell_type": "code",
   "execution_count": 111,
   "metadata": {
    "colab": {
     "base_uri": "https://localhost:8080/"
    },
    "id": "wSprzOfQMMxl",
    "outputId": "cb412d7c-3afb-4438-a1c1-68548a7a9c6b"
   },
   "outputs": [],
   "source": [
    "text_list = df.content.to_list()\n",
    "all_words = tokenize(\" \".join(text_list))\n",
    "# for i in range(len(all_words)):\n",
    "#     all_words[i] = delete_none_words(all_words[i])\n",
    "all_words = [delete_none_words(a_w) for a_w in all_words if delete_none_words(a_w)]"
   ]
  },
  {
   "cell_type": "code",
   "execution_count": 112,
   "metadata": {},
   "outputs": [
    {
     "data": {
      "text/plain": [
       "27686"
      ]
     },
     "execution_count": 112,
     "metadata": {},
     "output_type": "execute_result"
    }
   ],
   "source": [
    "len(all_words)"
   ]
  },
  {
   "cell_type": "code",
   "execution_count": 113,
   "metadata": {},
   "outputs": [],
   "source": [
    "words_freq = dict(Counter(all_words))"
   ]
  },
  {
   "cell_type": "code",
   "execution_count": 114,
   "metadata": {},
   "outputs": [
    {
     "data": {
      "text/plain": [
       "27686"
      ]
     },
     "execution_count": 114,
     "metadata": {},
     "output_type": "execute_result"
    }
   ],
   "source": [
    "len(words_freq)"
   ]
  },
  {
   "cell_type": "code",
   "execution_count": 115,
   "metadata": {},
   "outputs": [],
   "source": [
    "from tqdm import tqdm"
   ]
  },
  {
   "cell_type": "code",
   "execution_count": 116,
   "metadata": {
    "id": "_qzflZBD5Ihn"
   },
   "outputs": [],
   "source": [
    "def normalize_words(text_list):\n",
    "  words_dict = {}\n",
    "  for i in tqdm(range(len(text_list))):\n",
    "    temp_words = text_list[i].split()\n",
    "    temp_words = [w.strip() for w in temp_words if w.strip() not in stop_words]\n",
    "    \n",
    "    # print\n",
    "    # for word in text_list[i].split():\n",
    "    #   if word in stop_words:\n",
    "    #     word = \"\"\n",
    "    x = temp_words\n",
    "    for j in range(len(temp_words)):\n",
    "      temp_words[j] = delete_punctuations(temp_words[j])\n",
    "      temp_words[j] = delete_none_words(temp_words[j])\n",
    "      temp_words[j] = normalize_verb(temp_words[j])\n",
    "      for s in suffix_u:\n",
    "        if s in temp_words[j]:\n",
    "          temp_words[j] = delete_suffix(temp_words[j],s)\n",
    "          break\n",
    "      for s in suffix:\n",
    "        if s in temp_words[j]:\n",
    "          temp_words[j] = delete_suffix(temp_words[j],s,u=0)\n",
    "          break\n",
    "    temp_words = [w for w in temp_words if w.strip() not in stop_words]\n",
    "\n",
    "    words = list(map(str.strip, temp_words))\n",
    "    for j in range(len(words)):\n",
    "      if words[j] not in words_dict.keys():\n",
    "        words_dict[words[j]] = {}\n",
    "      if i not in words_dict[words[j]].keys():\n",
    "        words_dict[words[j]][i] = 1\n",
    "      else:\n",
    "        words_dict[words[j]][i] += 1\n",
    "  return words_dict"
   ]
  },
  {
   "cell_type": "code",
   "execution_count": 117,
   "metadata": {
    "id": "W7R2G17R6TS8"
   },
   "outputs": [
    {
     "name": "stderr",
     "output_type": "stream",
     "text": [
      "100%|██████████| 6996/6996 [09:52<00:00, 11.80it/s]\n"
     ]
    }
   ],
   "source": [
    "indexed_words = normalize_words(text_list)"
   ]
  },
  {
   "cell_type": "code",
   "execution_count": 119,
   "metadata": {
    "id": "SMDm2ZJVJxwy"
   },
   "outputs": [],
   "source": [
    "del indexed_words['']"
   ]
  },
  {
   "cell_type": "code",
   "execution_count": 120,
   "metadata": {
    "colab": {
     "base_uri": "https://localhost:8080/"
    },
    "id": "wYdwc7JACxNc",
    "outputId": "835fd16d-1edd-4fbc-a074-2ddce2989d99"
   },
   "outputs": [
    {
     "data": {
      "text/plain": [
       "23531"
      ]
     },
     "execution_count": 120,
     "metadata": {},
     "output_type": "execute_result"
    }
   ],
   "source": [
    "len(indexed_words)"
   ]
  },
  {
   "cell_type": "code",
   "execution_count": 121,
   "metadata": {},
   "outputs": [],
   "source": [
    "with open('indexed_words.pickle', 'wb') as handle:\n",
    "    pickle.dump(a, handle, protocol=pickle.HIGHEST_PROTOCOL)"
   ]
  },
  {
   "cell_type": "code",
   "execution_count": null,
   "metadata": {},
   "outputs": [],
   "source": [
    "with open('indexed_words.pickle', 'rb') as handle:\n",
    "    indexed_words = pickle.load(handle)"
   ]
  },
  {
   "cell_type": "code",
   "execution_count": 143,
   "metadata": {},
   "outputs": [],
   "source": [
    "query = 'واکسیناسیون بیماری کرونا'"
   ]
  },
  {
   "cell_type": "code",
   "execution_count": 144,
   "metadata": {},
   "outputs": [
    {
     "name": "stderr",
     "output_type": "stream",
     "text": [
      "100%|██████████| 1/1 [00:00<00:00, 128.15it/s]\n"
     ]
    }
   ],
   "source": [
    "query = normalize_words([query])"
   ]
  },
  {
   "cell_type": "code",
   "execution_count": 145,
   "metadata": {},
   "outputs": [
    {
     "data": {
      "text/plain": [
       "{'واکسیناسیون': {0: 1}, 'بیماری': {0: 1}, 'کرونا': {0: 1}}"
      ]
     },
     "execution_count": 145,
     "metadata": {},
     "output_type": "execute_result"
    }
   ],
   "source": [
    "query"
   ]
  },
  {
   "cell_type": "code",
   "execution_count": 146,
   "metadata": {},
   "outputs": [
    {
     "name": "stdout",
     "output_type": "stream",
     "text": [
      "واکسیناسیون\n",
      "1\n",
      "بیماری\n",
      "2\n",
      "کرونا\n",
      "3\n"
     ]
    }
   ],
   "source": [
    "match = []\n",
    "for q in query.keys():\n",
    "    for iw in indexed_words.keys():\n",
    "        if q == iw:\n",
    "            print(iw)\n",
    "            match.append(list(indexed_words[iw].keys()))\n",
    "            print(len(match))\n",
    "#     return match"
   ]
  },
  {
   "cell_type": "code",
   "execution_count": 147,
   "metadata": {},
   "outputs": [
    {
     "data": {
      "text/plain": [
       "3"
      ]
     },
     "execution_count": 147,
     "metadata": {},
     "output_type": "execute_result"
    }
   ],
   "source": [
    "len(match)"
   ]
  },
  {
   "cell_type": "code",
   "execution_count": 148,
   "metadata": {},
   "outputs": [],
   "source": [
    "def intersection(lst1, lst2):\n",
    "    lst3 = [value for value in lst1 if value in lst2]\n",
    "    return lst3"
   ]
  },
  {
   "cell_type": "code",
   "execution_count": 149,
   "metadata": {},
   "outputs": [],
   "source": [
    "mm = match[0]\n",
    "for m in match:\n",
    "    mm = intersection(mm,m)"
   ]
  },
  {
   "cell_type": "code",
   "execution_count": 150,
   "metadata": {},
   "outputs": [
    {
     "data": {
      "text/plain": [
       "[5589,\n",
       " 5681,\n",
       " 5960,\n",
       " 5999,\n",
       " 6001,\n",
       " 6011,\n",
       " 6018,\n",
       " 6034,\n",
       " 6041,\n",
       " 6123,\n",
       " 6226,\n",
       " 6269,\n",
       " 6397,\n",
       " 6404,\n",
       " 6424,\n",
       " 6431,\n",
       " 6440,\n",
       " 6502,\n",
       " 6504,\n",
       " 6505,\n",
       " 6509]"
      ]
     },
     "execution_count": 150,
     "metadata": {},
     "output_type": "execute_result"
    }
   ],
   "source": [
    "mm"
   ]
  },
  {
   "cell_type": "code",
   "execution_count": 151,
   "metadata": {},
   "outputs": [
    {
     "data": {
      "text/html": [
       "<div>\n",
       "<style scoped>\n",
       "    .dataframe tbody tr th:only-of-type {\n",
       "        vertical-align: middle;\n",
       "    }\n",
       "\n",
       "    .dataframe tbody tr th {\n",
       "        vertical-align: top;\n",
       "    }\n",
       "\n",
       "    .dataframe thead th {\n",
       "        text-align: right;\n",
       "    }\n",
       "</style>\n",
       "<table border=\"1\" class=\"dataframe\">\n",
       "  <thead>\n",
       "    <tr style=\"text-align: right;\">\n",
       "      <th></th>\n",
       "      <th>id</th>\n",
       "      <th>content</th>\n",
       "      <th>url</th>\n",
       "    </tr>\n",
       "  </thead>\n",
       "  <tbody>\n",
       "    <tr>\n",
       "      <th>5588</th>\n",
       "      <td>5589</td>\n",
       "      <td>**به گزارش ایسنا،** دکتر کیانوش جهانپور در این...</td>\n",
       "      <td>https://www.isna.ir/news/99022417719/شناسایی-م...</td>\n",
       "    </tr>\n",
       "    <tr>\n",
       "      <th>5680</th>\n",
       "      <td>5681</td>\n",
       "      <td>دکتر مهرنوش رنجبر در تعریفی از گرمازدگی گفت: گ...</td>\n",
       "      <td>https://www.isna.ir/news/99032515909/یک-وضعیت-...</td>\n",
       "    </tr>\n",
       "    <tr>\n",
       "      <th>5959</th>\n",
       "      <td>5960</td>\n",
       "      <td>دکتر عبدالرسول همتی پنجشنبه 13 شهریور در جمع خ...</td>\n",
       "      <td>https://www.isna.ir/news/99061309635/تازه-ترین...</td>\n",
       "    </tr>\n",
       "    <tr>\n",
       "      <th>5998</th>\n",
       "      <td>5999</td>\n",
       "      <td>عبدالکریم گراوند پیش از ظهر امروز در نشست ستاد...</td>\n",
       "      <td>https://www.isna.ir/news/99062317412/آنها-که-ک...</td>\n",
       "    </tr>\n",
       "    <tr>\n",
       "      <th>6000</th>\n",
       "      <td>6001</td>\n",
       "      <td>به گزارش ایسنا و بنابر اعلام روابط عمومی کرونا...</td>\n",
       "      <td>https://www.isna.ir/news/99062317044/آثار-کرون...</td>\n",
       "    </tr>\n",
       "    <tr>\n",
       "      <th>6010</th>\n",
       "      <td>6011</td>\n",
       "      <td>به گزارش ایسنا، در این دیدار، دکتر مسعود حبیبی...</td>\n",
       "      <td>https://www.isna.ir/news/99062619870/رصد-روزان...</td>\n",
       "    </tr>\n",
       "    <tr>\n",
       "      <th>6017</th>\n",
       "      <td>6018</td>\n",
       "      <td>سعید کشمیری با اعلام این خبر گفت: در ۲۴ ساعت گ...</td>\n",
       "      <td>https://www.isna.ir/news/99062821323/۳۰۶-بیمار...</td>\n",
       "    </tr>\n",
       "    <tr>\n",
       "      <th>6033</th>\n",
       "      <td>6034</td>\n",
       "      <td>**به گزارش ایسنا،** دکتر سیما سادات لاری دربار...</td>\n",
       "      <td>https://www.isna.ir/news/99070201609/ظرفیت-بیم...</td>\n",
       "    </tr>\n",
       "    <tr>\n",
       "      <th>6040</th>\n",
       "      <td>6041</td>\n",
       "      <td>**به گزارش ایسنا،** دکتر سیما سادات لاری دربار...</td>\n",
       "      <td>https://www.isna.ir/news/99070201609/ظرفیت-بیم...</td>\n",
       "    </tr>\n",
       "    <tr>\n",
       "      <th>6122</th>\n",
       "      <td>6123</td>\n",
       "      <td>به گزارش ایسنا و بنابر اعلام پژوهشگاه ابن سینا...</td>\n",
       "      <td>https://www.isna.ir/news/99072820379/نقش-تغذیه...</td>\n",
       "    </tr>\n",
       "    <tr>\n",
       "      <th>6225</th>\n",
       "      <td>6226</td>\n",
       "      <td>**به گزارش ایسنا،** این روزها بازار بحث درباره...</td>\n",
       "      <td>https://www.isna.ir/news/99090604599/واکسن-کرو...</td>\n",
       "    </tr>\n",
       "    <tr>\n",
       "      <th>6268</th>\n",
       "      <td>6269</td>\n",
       "      <td>**به گزارش ایسنا** در حال حاضر پنج شرکت دانش ب...</td>\n",
       "      <td>https://www.isna.ir/news/99091915348/تولید-ماس...</td>\n",
       "    </tr>\n",
       "    <tr>\n",
       "      <th>6396</th>\n",
       "      <td>6397</td>\n",
       "      <td>به گزارش ایسنا، وقتی این خانم باردار سوار بالگ...</td>\n",
       "      <td>https://www.isna.ir/news/99111612395/اقدام-جال...</td>\n",
       "    </tr>\n",
       "    <tr>\n",
       "      <th>6403</th>\n",
       "      <td>6404</td>\n",
       "      <td>**به گزارش ایسنا،** دکتر سیماسادات لاری گفت: ا...</td>\n",
       "      <td>https://www.isna.ir/news/99111914285/۵۷-فوتی-ج...</td>\n",
       "    </tr>\n",
       "    <tr>\n",
       "      <th>6423</th>\n",
       "      <td>6424</td>\n",
       "      <td>پرویز اوسطی در گفت‌وگو با ایسنا در مورد وضعیت ...</td>\n",
       "      <td>https://www.isna.ir/news/99112719959/دومین-نور...</td>\n",
       "    </tr>\n",
       "    <tr>\n",
       "      <th>6430</th>\n",
       "      <td>6431</td>\n",
       "      <td>به گزارش ایسنا، دکتر سیماسادات لاری گفت: از دی...</td>\n",
       "      <td>https://www.isna.ir/news/99113022668/۸۰-فوتی-ج...</td>\n",
       "    </tr>\n",
       "    <tr>\n",
       "      <th>6439</th>\n",
       "      <td>6440</td>\n",
       "      <td>امین افراسیابی در گفت و گو با ایسنا اظهار کرد:...</td>\n",
       "      <td>https://www.isna.ir/news/99112922168/توزیع-۱۰-...</td>\n",
       "    </tr>\n",
       "    <tr>\n",
       "      <th>6501</th>\n",
       "      <td>6502</td>\n",
       "      <td>محمدرضا کارگر در شرح جزئیات بیشتر به ایسنا توض...</td>\n",
       "      <td>https://www.isna.ir/news/99122015407/وضعیت-موز...</td>\n",
       "    </tr>\n",
       "    <tr>\n",
       "      <th>6503</th>\n",
       "      <td>6504</td>\n",
       "      <td>**به گزارش ایسنا** و بر اساس اعلام وزارت بهداش...</td>\n",
       "      <td>https://www.isna.ir/news/99122015352/بیماران-ن...</td>\n",
       "    </tr>\n",
       "    <tr>\n",
       "      <th>6504</th>\n",
       "      <td>6505</td>\n",
       "      <td>ارونقی-معاون فنی گمرک ایران- در گفت و گو با ای...</td>\n",
       "      <td>https://www.isna.ir/news/99122115997/واکسن-هند...</td>\n",
       "    </tr>\n",
       "    <tr>\n",
       "      <th>6508</th>\n",
       "      <td>6509</td>\n",
       "      <td>سعید کشمیری در نشست ستاد استانی مبارزه با کرون...</td>\n",
       "      <td>https://www.isna.ir/news/99122418607/۲۱-هزار-ن...</td>\n",
       "    </tr>\n",
       "  </tbody>\n",
       "</table>\n",
       "</div>"
      ],
      "text/plain": [
       "        id                                            content  \\\n",
       "5588  5589  **به گزارش ایسنا،** دکتر کیانوش جهانپور در این...   \n",
       "5680  5681  دکتر مهرنوش رنجبر در تعریفی از گرمازدگی گفت: گ...   \n",
       "5959  5960  دکتر عبدالرسول همتی پنجشنبه 13 شهریور در جمع خ...   \n",
       "5998  5999  عبدالکریم گراوند پیش از ظهر امروز در نشست ستاد...   \n",
       "6000  6001  به گزارش ایسنا و بنابر اعلام روابط عمومی کرونا...   \n",
       "6010  6011  به گزارش ایسنا، در این دیدار، دکتر مسعود حبیبی...   \n",
       "6017  6018  سعید کشمیری با اعلام این خبر گفت: در ۲۴ ساعت گ...   \n",
       "6033  6034  **به گزارش ایسنا،** دکتر سیما سادات لاری دربار...   \n",
       "6040  6041  **به گزارش ایسنا،** دکتر سیما سادات لاری دربار...   \n",
       "6122  6123  به گزارش ایسنا و بنابر اعلام پژوهشگاه ابن سینا...   \n",
       "6225  6226  **به گزارش ایسنا،** این روزها بازار بحث درباره...   \n",
       "6268  6269  **به گزارش ایسنا** در حال حاضر پنج شرکت دانش ب...   \n",
       "6396  6397  به گزارش ایسنا، وقتی این خانم باردار سوار بالگ...   \n",
       "6403  6404  **به گزارش ایسنا،** دکتر سیماسادات لاری گفت: ا...   \n",
       "6423  6424  پرویز اوسطی در گفت‌وگو با ایسنا در مورد وضعیت ...   \n",
       "6430  6431  به گزارش ایسنا، دکتر سیماسادات لاری گفت: از دی...   \n",
       "6439  6440  امین افراسیابی در گفت و گو با ایسنا اظهار کرد:...   \n",
       "6501  6502  محمدرضا کارگر در شرح جزئیات بیشتر به ایسنا توض...   \n",
       "6503  6504  **به گزارش ایسنا** و بر اساس اعلام وزارت بهداش...   \n",
       "6504  6505  ارونقی-معاون فنی گمرک ایران- در گفت و گو با ای...   \n",
       "6508  6509  سعید کشمیری در نشست ستاد استانی مبارزه با کرون...   \n",
       "\n",
       "                                                    url  \n",
       "5588  https://www.isna.ir/news/99022417719/شناسایی-م...  \n",
       "5680  https://www.isna.ir/news/99032515909/یک-وضعیت-...  \n",
       "5959  https://www.isna.ir/news/99061309635/تازه-ترین...  \n",
       "5998  https://www.isna.ir/news/99062317412/آنها-که-ک...  \n",
       "6000  https://www.isna.ir/news/99062317044/آثار-کرون...  \n",
       "6010  https://www.isna.ir/news/99062619870/رصد-روزان...  \n",
       "6017  https://www.isna.ir/news/99062821323/۳۰۶-بیمار...  \n",
       "6033  https://www.isna.ir/news/99070201609/ظرفیت-بیم...  \n",
       "6040  https://www.isna.ir/news/99070201609/ظرفیت-بیم...  \n",
       "6122  https://www.isna.ir/news/99072820379/نقش-تغذیه...  \n",
       "6225  https://www.isna.ir/news/99090604599/واکسن-کرو...  \n",
       "6268  https://www.isna.ir/news/99091915348/تولید-ماس...  \n",
       "6396  https://www.isna.ir/news/99111612395/اقدام-جال...  \n",
       "6403  https://www.isna.ir/news/99111914285/۵۷-فوتی-ج...  \n",
       "6423  https://www.isna.ir/news/99112719959/دومین-نور...  \n",
       "6430  https://www.isna.ir/news/99113022668/۸۰-فوتی-ج...  \n",
       "6439  https://www.isna.ir/news/99112922168/توزیع-۱۰-...  \n",
       "6501  https://www.isna.ir/news/99122015407/وضعیت-موز...  \n",
       "6503  https://www.isna.ir/news/99122015352/بیماران-ن...  \n",
       "6504  https://www.isna.ir/news/99122115997/واکسن-هند...  \n",
       "6508  https://www.isna.ir/news/99122418607/۲۱-هزار-ن...  "
      ]
     },
     "execution_count": 151,
     "metadata": {},
     "output_type": "execute_result"
    }
   ],
   "source": [
    "df[df.id.isin(mm)]"
   ]
  },
  {
   "cell_type": "code",
   "execution_count": 168,
   "metadata": {},
   "outputs": [],
   "source": [
    "dfs = {}\n",
    "for word in indexed_words.keys():\n",
    "    dfs[word] = len(indexed_words[word])"
   ]
  },
  {
   "cell_type": "code",
   "execution_count": 169,
   "metadata": {},
   "outputs": [],
   "source": [
    "query = 'واکسیناسیون بیماری کرونا در جهان'"
   ]
  },
  {
   "cell_type": "code",
   "execution_count": 170,
   "metadata": {},
   "outputs": [
    {
     "name": "stderr",
     "output_type": "stream",
     "text": [
      "100%|██████████| 1/1 [00:00<00:00, 209.52it/s]\n"
     ]
    }
   ],
   "source": [
    "query = normalize_words([query])"
   ]
  },
  {
   "cell_type": "code",
   "execution_count": 171,
   "metadata": {},
   "outputs": [
    {
     "data": {
      "text/plain": [
       "{'واکسیناسیون': {0: 1}, 'بیماری': {0: 1}, 'کرونا': {0: 1}, 'جهان': {0: 1}}"
      ]
     },
     "execution_count": 171,
     "metadata": {},
     "output_type": "execute_result"
    }
   ],
   "source": [
    "query"
   ]
  },
  {
   "cell_type": "code",
   "execution_count": 172,
   "metadata": {},
   "outputs": [
    {
     "name": "stdout",
     "output_type": "stream",
     "text": [
      "واکسیناسیون\n",
      "1\n",
      "بیماری\n",
      "2\n",
      "کرونا\n",
      "3\n",
      "جهان\n",
      "4\n"
     ]
    }
   ],
   "source": [
    "match = []\n",
    "for q in query.keys():\n",
    "    for iw in indexed_words.keys():\n",
    "        if q == iw:\n",
    "            print(iw)\n",
    "            match.append(list(indexed_words[iw].keys()))\n",
    "            print(len(match))\n",
    "#     return match"
   ]
  },
  {
   "cell_type": "code",
   "execution_count": 173,
   "metadata": {},
   "outputs": [
    {
     "data": {
      "text/plain": [
       "4"
      ]
     },
     "execution_count": 173,
     "metadata": {},
     "output_type": "execute_result"
    }
   ],
   "source": [
    "len(match)"
   ]
  },
  {
   "cell_type": "code",
   "execution_count": 174,
   "metadata": {},
   "outputs": [],
   "source": [
    "import math"
   ]
  },
  {
   "cell_type": "code",
   "execution_count": 175,
   "metadata": {},
   "outputs": [],
   "source": [
    "def intersection(lst1, lst2):\n",
    "    lst3 = [value for value in lst1 if value in lst2]\n",
    "    return lst3"
   ]
  },
  {
   "cell_type": "code",
   "execution_count": 176,
   "metadata": {},
   "outputs": [],
   "source": [
    "mm = match[0]\n",
    "for m in match:\n",
    "    mm = intersection(mm,m)"
   ]
  },
  {
   "cell_type": "code",
   "execution_count": 177,
   "metadata": {},
   "outputs": [],
   "source": [
    "def compute_distance(query, words):\n",
    "    N = len(words)\n",
    "    length = [0]*N\n",
    "    scores = [0]*N\n",
    "    for term in tqdm(query.keys()):\n",
    "        print(term)\n",
    "        print(dfs[term])\n",
    "        idf = math.log(N/dfs[term])\n",
    "        w_tq = (1+math.log(query[term][0])) * idf\n",
    "        for docid in words[term].keys():\n",
    "            w_td = (math.log(words[term][docid]) + 1)\n",
    "            scores[docid]+= w_td * w_tq\n",
    "            length[docid]+= (w_td**2)\n",
    "    for docid in range(N):\n",
    "        if scores[docid]:\n",
    "            scores[docid] /= (length[docid]**0.5)\n",
    "    return scores"
   ]
  },
  {
   "cell_type": "code",
   "execution_count": 178,
   "metadata": {},
   "outputs": [
    {
     "name": "stderr",
     "output_type": "stream",
     "text": [
      "100%|██████████| 4/4 [00:00<00:00, 847.42it/s]"
     ]
    },
    {
     "name": "stdout",
     "output_type": "stream",
     "text": [
      "واکسیناسیون\n",
      "55\n",
      "بیماری\n",
      "1137\n",
      "کرونا\n",
      "1359\n",
      "جهان\n",
      "661\n"
     ]
    },
    {
     "name": "stderr",
     "output_type": "stream",
     "text": [
      "\n"
     ]
    }
   ],
   "source": [
    "scores = compute_distance(query,indexed_words)"
   ]
  },
  {
   "cell_type": "code",
   "execution_count": 179,
   "metadata": {},
   "outputs": [],
   "source": [
    "import numpy as np"
   ]
  },
  {
   "cell_type": "code",
   "execution_count": 180,
   "metadata": {},
   "outputs": [],
   "source": [
    "# sorted_scores = np.argsort(scores)"
   ]
  },
  {
   "cell_type": "code",
   "execution_count": 195,
   "metadata": {},
   "outputs": [],
   "source": [
    "def get_top_k(k, scores):\n",
    "    sorted_scores = np.argsort(scores)\n",
    "    a = sorted_scores[-1*k:]\n",
    "    top_k = a[::-1]\n",
    "    return top_k"
   ]
  },
  {
   "cell_type": "code",
   "execution_count": 196,
   "metadata": {},
   "outputs": [],
   "source": [
    "top_10 = get_top_k(10,scores)"
   ]
  },
  {
   "cell_type": "code",
   "execution_count": 197,
   "metadata": {},
   "outputs": [
    {
     "data": {
      "text/plain": [
       "array([6474, 6727, 6724, 6721, 6226, 5960, 6404, 5681, 6509, 3207])"
      ]
     },
     "execution_count": 197,
     "metadata": {},
     "output_type": "execute_result"
    }
   ],
   "source": [
    "top_10"
   ]
  },
  {
   "cell_type": "code",
   "execution_count": 198,
   "metadata": {},
   "outputs": [
    {
     "name": "stdout",
     "output_type": "stream",
     "text": [
      "id                                                      6475\n",
      "content    ابراهیم رضایی در ارائه گزارش به خبرنگاران به م...\n",
      "url        https://www.isna.ir/news/99121209285/استان-بوش...\n",
      "Name: 6474, dtype: object\n"
     ]
    }
   ],
   "source": [
    "# for d in top_k:\n",
    "print(df.loc[top_10[0]])"
   ]
  },
  {
   "cell_type": "markdown",
   "metadata": {},
   "source": [
    "# Champion List"
   ]
  },
  {
   "cell_type": "code",
   "execution_count": 199,
   "metadata": {},
   "outputs": [],
   "source": [
    "def make_champions(r, indexed_words):\n",
    "    champion_list = {}\n",
    "    for term in indexed_words:\n",
    "        doc_dict = indexed_words[term].copy()\n",
    "        champions = dict(sorted(doc_dict.items(), key=lambda x: x[1], reverse=True)[:r])\n",
    "        champion_list[term] = champions\n",
    "    return champion_list"
   ]
  },
  {
   "cell_type": "code",
   "execution_count": 200,
   "metadata": {},
   "outputs": [
    {
     "name": "stderr",
     "output_type": "stream",
     "text": [
      "100%|██████████| 4/4 [00:00<00:00, 2358.67it/s]"
     ]
    },
    {
     "name": "stdout",
     "output_type": "stream",
     "text": [
      "واکسیناسیون\n",
      "55\n",
      "بیماری\n",
      "1137\n",
      "کرونا\n",
      "1359\n",
      "جهان\n",
      "661\n"
     ]
    },
    {
     "name": "stderr",
     "output_type": "stream",
     "text": [
      "\n"
     ]
    }
   ],
   "source": [
    "champion_list = make_champions(5,indexed_words)\n",
    "champion_sims = compute_distance(query,champion_list)"
   ]
  },
  {
   "cell_type": "code",
   "execution_count": 201,
   "metadata": {},
   "outputs": [],
   "source": [
    "top_10 = get_top_k(10,champion_sims)"
   ]
  },
  {
   "cell_type": "code",
   "execution_count": 202,
   "metadata": {},
   "outputs": [
    {
     "data": {
      "text/plain": [
       "array([6407, 5960, 6454, 6269, 6440, 6123, 1317,  977, 1623,   32])"
      ]
     },
     "execution_count": 202,
     "metadata": {},
     "output_type": "execute_result"
    }
   ],
   "source": [
    "top_10"
   ]
  },
  {
   "cell_type": "code",
   "execution_count": 203,
   "metadata": {},
   "outputs": [
    {
     "name": "stdout",
     "output_type": "stream",
     "text": [
      "id                                                      6408\n",
      "content    سیدعلی آقازاده در گفت‌وگو با ایسنا، اظهار کرد:...\n",
      "url        https://www.isna.ir/news/99112014708/واکسن-کرو...\n",
      "Name: 6407, dtype: object\n"
     ]
    }
   ],
   "source": [
    "print(df.loc[top_10[0]])"
   ]
  },
  {
   "cell_type": "markdown",
   "metadata": {},
   "source": [
    "# فاز سه"
   ]
  },
  {
   "cell_type": "code",
   "execution_count": null,
   "metadata": {},
   "outputs": [],
   "source": []
  }
 ],
 "metadata": {
  "colab": {
   "collapsed_sections": [],
   "name": "search_engine.ipynb",
   "provenance": []
  },
  "kernelspec": {
   "display_name": "Python 3",
   "language": "python",
   "name": "python3"
  },
  "language_info": {
   "codemirror_mode": {
    "name": "ipython",
    "version": 3
   },
   "file_extension": ".py",
   "mimetype": "text/x-python",
   "name": "python",
   "nbconvert_exporter": "python",
   "pygments_lexer": "ipython3",
   "version": "3.6.9"
  }
 },
 "nbformat": 4,
 "nbformat_minor": 1
}
