{
 "cells": [
  {
   "cell_type": "code",
   "execution_count": 85,
   "metadata": {
    "id": "s5za9qVfEsX3"
   },
   "outputs": [],
   "source": [
    "import pandas as pd\n",
    "from collections import Counter\n",
    "import re\n",
    "import pickle\n",
    "import numpy as np\n",
    "import math\n",
    "from tqdm import tqdm"
   ]
  },
  {
   "cell_type": "code",
   "execution_count": null,
   "metadata": {},
   "outputs": [],
   "source": [
    "!pip inst"
   ]
  },
  {
   "cell_type": "code",
   "execution_count": 6,
   "metadata": {
    "id": "gxfs2_RSIvvX"
   },
   "outputs": [],
   "source": [
    "DATA_PATH = ''"
   ]
  },
  {
   "cell_type": "code",
   "execution_count": 7,
   "metadata": {
    "colab": {
     "base_uri": "https://localhost:8080/",
     "height": 419
    },
    "id": "3cyJKXGlIx8-",
    "outputId": "fe23e649-c6d3-46b0-b357-45a612abe88c"
   },
   "outputs": [
    {
     "data": {
      "text/html": [
       "<div>\n",
       "<style scoped>\n",
       "    .dataframe tbody tr th:only-of-type {\n",
       "        vertical-align: middle;\n",
       "    }\n",
       "\n",
       "    .dataframe tbody tr th {\n",
       "        vertical-align: top;\n",
       "    }\n",
       "\n",
       "    .dataframe thead th {\n",
       "        text-align: right;\n",
       "    }\n",
       "</style>\n",
       "<table border=\"1\" class=\"dataframe\">\n",
       "  <thead>\n",
       "    <tr style=\"text-align: right;\">\n",
       "      <th></th>\n",
       "      <th>id</th>\n",
       "      <th>content</th>\n",
       "      <th>url</th>\n",
       "    </tr>\n",
       "  </thead>\n",
       "  <tbody>\n",
       "    <tr>\n",
       "      <th>0</th>\n",
       "      <td>1</td>\n",
       "      <td>به گزارش ایسنا، پس از استعفا علی نکویی رئیس شا...</td>\n",
       "      <td>https://www.isna.ir/news/99010100077/حواشی-در-...</td>\n",
       "    </tr>\n",
       "    <tr>\n",
       "      <th>1</th>\n",
       "      <td>2</td>\n",
       "      <td>به گزارش ایسنا، امیر محسنی با بیان اینکه این ل...</td>\n",
       "      <td>https://www.isna.ir/news/98122922468/ثبت-نام-ب...</td>\n",
       "    </tr>\n",
       "    <tr>\n",
       "      <th>2</th>\n",
       "      <td>3</td>\n",
       "      <td>آرش فرهادیان در گفت و گو با ایسنا، درباره آخری...</td>\n",
       "      <td>https://www.isna.ir/news/99010200541/فرهادیان-...</td>\n",
       "    </tr>\n",
       "    <tr>\n",
       "      <th>3</th>\n",
       "      <td>4</td>\n",
       "      <td>به گزارش ایسنا، فدراسیون بین المللی شنا قانونی...</td>\n",
       "      <td>https://www.isna.ir/news/99010200528/فناوری-وی...</td>\n",
       "    </tr>\n",
       "    <tr>\n",
       "      <th>4</th>\n",
       "      <td>5</td>\n",
       "      <td>به گزارش ایسنا، فدراسیون جهانی صعودهای ورزشی (...</td>\n",
       "      <td>https://www.isna.ir/news/99010200510/تعویق-زما...</td>\n",
       "    </tr>\n",
       "    <tr>\n",
       "      <th>...</th>\n",
       "      <td>...</td>\n",
       "      <td>...</td>\n",
       "      <td>...</td>\n",
       "    </tr>\n",
       "    <tr>\n",
       "      <th>6995</th>\n",
       "      <td>6996</td>\n",
       "      <td>**به گزارش ایسنا،** سیگار کشیدن، علت عمده‌ برو...</td>\n",
       "      <td>https://www.isna.ir/news/98092015395/اصلی-ترین...</td>\n",
       "    </tr>\n",
       "    <tr>\n",
       "      <th>6996</th>\n",
       "      <td>6997</td>\n",
       "      <td>**به گزارش ایسنا،** ​​​انسولین هورمونی است که ...</td>\n",
       "      <td>https://www.isna.ir/news/98092015327/انواع-دیا...</td>\n",
       "    </tr>\n",
       "    <tr>\n",
       "      <th>6997</th>\n",
       "      <td>6998</td>\n",
       "      <td>فاطمه احمدی - موزه‌دار - در گفت‌وگو با ایسنا، ...</td>\n",
       "      <td>https://www.isna.ir/news/98092216157/پنجمین-مو...</td>\n",
       "    </tr>\n",
       "    <tr>\n",
       "      <th>6998</th>\n",
       "      <td>6999</td>\n",
       "      <td>**به گزارش ایسنا،** سیگار کشیدن، علت عمده‌ برو...</td>\n",
       "      <td>https://www.isna.ir/news/98092015395/اصلی-ترین...</td>\n",
       "    </tr>\n",
       "    <tr>\n",
       "      <th>6999</th>\n",
       "      <td>7000</td>\n",
       "      <td>**به گزارش ایسنا،** ​​​انسولین هورمونی است که ...</td>\n",
       "      <td>https://www.isna.ir/news/98092015327/انواع-دیا...</td>\n",
       "    </tr>\n",
       "  </tbody>\n",
       "</table>\n",
       "<p>7000 rows × 3 columns</p>\n",
       "</div>"
      ],
      "text/plain": [
       "        id                                            content  \\\n",
       "0        1  به گزارش ایسنا، پس از استعفا علی نکویی رئیس شا...   \n",
       "1        2  به گزارش ایسنا، امیر محسنی با بیان اینکه این ل...   \n",
       "2        3  آرش فرهادیان در گفت و گو با ایسنا، درباره آخری...   \n",
       "3        4  به گزارش ایسنا، فدراسیون بین المللی شنا قانونی...   \n",
       "4        5  به گزارش ایسنا، فدراسیون جهانی صعودهای ورزشی (...   \n",
       "...    ...                                                ...   \n",
       "6995  6996  **به گزارش ایسنا،** سیگار کشیدن، علت عمده‌ برو...   \n",
       "6996  6997  **به گزارش ایسنا،** ​​​انسولین هورمونی است که ...   \n",
       "6997  6998  فاطمه احمدی - موزه‌دار - در گفت‌وگو با ایسنا، ...   \n",
       "6998  6999  **به گزارش ایسنا،** سیگار کشیدن، علت عمده‌ برو...   \n",
       "6999  7000  **به گزارش ایسنا،** ​​​انسولین هورمونی است که ...   \n",
       "\n",
       "                                                    url  \n",
       "0     https://www.isna.ir/news/99010100077/حواشی-در-...  \n",
       "1     https://www.isna.ir/news/98122922468/ثبت-نام-ب...  \n",
       "2     https://www.isna.ir/news/99010200541/فرهادیان-...  \n",
       "3     https://www.isna.ir/news/99010200528/فناوری-وی...  \n",
       "4     https://www.isna.ir/news/99010200510/تعویق-زما...  \n",
       "...                                                 ...  \n",
       "6995  https://www.isna.ir/news/98092015395/اصلی-ترین...  \n",
       "6996  https://www.isna.ir/news/98092015327/انواع-دیا...  \n",
       "6997  https://www.isna.ir/news/98092216157/پنجمین-مو...  \n",
       "6998  https://www.isna.ir/news/98092015395/اصلی-ترین...  \n",
       "6999  https://www.isna.ir/news/98092015327/انواع-دیا...  \n",
       "\n",
       "[7000 rows x 3 columns]"
      ]
     },
     "execution_count": 7,
     "metadata": {},
     "output_type": "execute_result"
    }
   ],
   "source": [
    "extra_data = pd.read_csv(DATA_PATH+'extra_data.csv')\n",
    "punctuations = extra_data['punctuations'].dropna().to_list()\n",
    "stop_words = extra_data['stop_words'].dropna().to_list()\n",
    "suffix_u = extra_data['suffix_u'].dropna().to_list()\n",
    "suffix = extra_data['suffix'].dropna().to_list()\n",
    "ar = extra_data['ar'].dropna().to_list()\n",
    "pr = extra_data['pr'].dropna().to_list()\n",
    "verb_post = extra_data['verb_post'].dropna().to_list()\n",
    "verb_pre = extra_data['verb_pre'].dropna().to_list()\n",
    "verbs = extra_data['verbs'].dropna().to_list()\n",
    "df = pd.read_csv(DATA_PATH+'IR_data.csv')\n",
    "mokasar = pd.read_csv(DATA_PATH+'mokasar.csv')\n",
    "df"
   ]
  },
  {
   "cell_type": "code",
   "execution_count": 8,
   "metadata": {},
   "outputs": [],
   "source": [
    "mokasar = mokasar.set_index('jam').T.to_dict('dict')"
   ]
  },
  {
   "cell_type": "code",
   "execution_count": 9,
   "metadata": {
    "colab": {
     "base_uri": "https://localhost:8080/"
    },
    "id": "LGJ7fzAWC9oJ",
    "outputId": "0f2672d2-6789-4d0c-e5f3-f6adeef7d95f"
   },
   "outputs": [
    {
     "data": {
      "text/plain": [
       "['ها', 'تر', 'ترین', 'گان', 'ان', 'ات', 'ی', 'ای', 'یی']"
      ]
     },
     "execution_count": 9,
     "metadata": {},
     "output_type": "execute_result"
    }
   ],
   "source": [
    "suffix"
   ]
  },
  {
   "cell_type": "code",
   "execution_count": 10,
   "metadata": {
    "id": "_AZhcc-XO8jl"
   },
   "outputs": [],
   "source": [
    "df = df.dropna()"
   ]
  },
  {
   "cell_type": "code",
   "execution_count": 11,
   "metadata": {
    "id": "qUDdr2kXI2eT"
   },
   "outputs": [],
   "source": [
    "def tokenize(text):\n",
    "  tokens = set([word for word in text.split()])\n",
    "  return tokens"
   ]
  },
  {
   "cell_type": "code",
   "execution_count": 12,
   "metadata": {
    "id": "2mFq4i6YSEvF"
   },
   "outputs": [],
   "source": [
    "def delete_suffix(word, suffix,u=1):\n",
    "  word_end = word.index(suffix[0])\n",
    "  if u and '\\u200c' in word and word.index('\\u200c') == word_end - 1 and word.endswith(suffix):\n",
    "    word = word[:word_end-1]\n",
    "  elif not u and suffix in word and word.replace(suffix,'') in all_words and word.endswith(suffix):\n",
    "    if suffix == 'گان':\n",
    "      word = word.replace(suffix,'ه')\n",
    "    else:\n",
    "      word = word.replace(suffix,'')\n",
    "  return word"
   ]
  },
  {
   "cell_type": "code",
   "execution_count": 13,
   "metadata": {
    "id": "zsEq67X_NuOM"
   },
   "outputs": [],
   "source": [
    "def delete_punctuations(word):\n",
    "  for punc in punctuations:\n",
    "    if punc in word:\n",
    "      word = word.replace(punc,\" \")\n",
    "  return word"
   ]
  },
  {
   "cell_type": "code",
   "execution_count": 14,
   "metadata": {},
   "outputs": [],
   "source": [
    "def delete_none_words(word):\n",
    "    persian_pattern =  \"^[\\u0643\\u0623\\u0629\\u0624\\u0621\\u0626\\u0622\\u0627\\u0628\\u067E\\u062A-\\u062C\\u0686\\u062D-\\u0632\\u0698\\u0633-\\u063A\\u0641\\u0642\\u06A9\\u06AF\\u0644-\\u0648\\u06CC]+$\"\n",
    "    if re.match(persian_pattern,word):\n",
    "        return word\n",
    "    return \"\""
   ]
  },
  {
   "cell_type": "code",
   "execution_count": 15,
   "metadata": {},
   "outputs": [],
   "source": [
    "def normalize_letters(word):\n",
    "    for i in len(ar):\n",
    "        if ar[i] in word:\n",
    "            word.replace(ar[i],pr[i])"
   ]
  },
  {
   "cell_type": "code",
   "execution_count": 16,
   "metadata": {},
   "outputs": [],
   "source": [
    "def normalize_mokasar(word):\n",
    "    if word in mokasar.keys():\n",
    "        word = mokasar[word]['mofrad']\n",
    "    return word"
   ]
  },
  {
   "cell_type": "code",
   "execution_count": 17,
   "metadata": {},
   "outputs": [],
   "source": [
    "def normalize_verb(verb):\n",
    "    for v in verbs:\n",
    "        if verb in v:\n",
    "            for p in verb_pre:\n",
    "                if verb.startswith(p):\n",
    "                    verb = verb.replace(p,'')\n",
    "            for p in verb_post:\n",
    "                if verb.endswith(p):\n",
    "                    verb = verb.replace(p,'')\n",
    "    return verb"
   ]
  },
  {
   "cell_type": "code",
   "execution_count": 18,
   "metadata": {
    "colab": {
     "base_uri": "https://localhost:8080/"
    },
    "id": "wSprzOfQMMxl",
    "outputId": "cb412d7c-3afb-4438-a1c1-68548a7a9c6b"
   },
   "outputs": [],
   "source": [
    "text_list = df.content.to_list()\n",
    "all_words = tokenize(\" \".join(text_list))\n",
    "# for i in range(len(all_words)):\n",
    "#     all_words[i] = delete_none_words(all_words[i])\n",
    "all_words = [delete_none_words(a_w) for a_w in all_words if delete_none_words(a_w)]"
   ]
  },
  {
   "cell_type": "code",
   "execution_count": 19,
   "metadata": {},
   "outputs": [
    {
     "data": {
      "text/plain": [
       "27686"
      ]
     },
     "execution_count": 19,
     "metadata": {},
     "output_type": "execute_result"
    }
   ],
   "source": [
    "len(all_words)"
   ]
  },
  {
   "cell_type": "code",
   "execution_count": 20,
   "metadata": {},
   "outputs": [],
   "source": [
    "words_freq = dict(Counter(all_words))"
   ]
  },
  {
   "cell_type": "code",
   "execution_count": 21,
   "metadata": {},
   "outputs": [
    {
     "data": {
      "text/plain": [
       "27686"
      ]
     },
     "execution_count": 21,
     "metadata": {},
     "output_type": "execute_result"
    }
   ],
   "source": [
    "len(words_freq)"
   ]
  },
  {
   "cell_type": "code",
   "execution_count": 22,
   "metadata": {},
   "outputs": [],
   "source": [
    "from tqdm import tqdm"
   ]
  },
  {
   "cell_type": "code",
   "execution_count": 23,
   "metadata": {
    "id": "_qzflZBD5Ihn"
   },
   "outputs": [],
   "source": [
    "def normalize_words(text_list):\n",
    "  words_dict = {}\n",
    "  for i in tqdm(range(len(text_list))):\n",
    "    temp_words = text_list[i].split()\n",
    "    temp_words = [w.strip() for w in temp_words if w.strip() not in stop_words]\n",
    "    \n",
    "    # print\n",
    "    # for word in text_list[i].split():\n",
    "    #   if word in stop_words:\n",
    "    #     word = \"\"\n",
    "    x = temp_words\n",
    "    for j in range(len(temp_words)):\n",
    "      temp_words[j] = delete_punctuations(temp_words[j])\n",
    "      temp_words[j] = delete_none_words(temp_words[j])\n",
    "      temp_words[j] = normalize_verb(temp_words[j])\n",
    "      for s in suffix_u:\n",
    "        if s in temp_words[j]:\n",
    "          temp_words[j] = delete_suffix(temp_words[j],s)\n",
    "          break\n",
    "      for s in suffix:\n",
    "        if s in temp_words[j]:\n",
    "          temp_words[j] = delete_suffix(temp_words[j],s,u=0)\n",
    "          break\n",
    "    temp_words = [w for w in temp_words if w.strip() not in stop_words]\n",
    "\n",
    "    words = list(map(str.strip, temp_words))\n",
    "    for j in range(len(words)):\n",
    "      if words[j] not in words_dict.keys():\n",
    "        words_dict[words[j]] = {}\n",
    "      if i not in words_dict[words[j]].keys():\n",
    "        words_dict[words[j]][i] = 1\n",
    "      else:\n",
    "        words_dict[words[j]][i] += 1\n",
    "  return words_dict"
   ]
  },
  {
   "cell_type": "code",
   "execution_count": 24,
   "metadata": {
    "id": "W7R2G17R6TS8"
   },
   "outputs": [
    {
     "name": "stderr",
     "output_type": "stream",
     "text": [
      "100%|██████████| 6996/6996 [07:33<00:00, 15.42it/s]\n"
     ]
    }
   ],
   "source": [
    "indexed_words = normalize_words(text_list)"
   ]
  },
  {
   "cell_type": "code",
   "execution_count": 25,
   "metadata": {
    "id": "SMDm2ZJVJxwy"
   },
   "outputs": [],
   "source": [
    "del indexed_words['']"
   ]
  },
  {
   "cell_type": "code",
   "execution_count": 26,
   "metadata": {
    "colab": {
     "base_uri": "https://localhost:8080/"
    },
    "id": "wYdwc7JACxNc",
    "outputId": "835fd16d-1edd-4fbc-a074-2ddce2989d99"
   },
   "outputs": [
    {
     "data": {
      "text/plain": [
       "23531"
      ]
     },
     "execution_count": 26,
     "metadata": {},
     "output_type": "execute_result"
    }
   ],
   "source": [
    "len(indexed_words)"
   ]
  },
  {
   "cell_type": "code",
   "execution_count": 27,
   "metadata": {},
   "outputs": [],
   "source": [
    "with open('indexed_words.pickle', 'wb') as handle:\n",
    "    pickle.dump(indexed_words, handle, protocol=pickle.HIGHEST_PROTOCOL)"
   ]
  },
  {
   "cell_type": "code",
   "execution_count": null,
   "metadata": {},
   "outputs": [],
   "source": [
    "with open('indexed_words.pickle', 'rb') as handle:\n",
    "    indexed_words = pickle.load(handle)"
   ]
  },
  {
   "cell_type": "code",
   "execution_count": 143,
   "metadata": {},
   "outputs": [],
   "source": [
    "query = 'واکسیناسیون بیماری کرونا'"
   ]
  },
  {
   "cell_type": "code",
   "execution_count": 144,
   "metadata": {},
   "outputs": [
    {
     "name": "stderr",
     "output_type": "stream",
     "text": [
      "100%|██████████| 1/1 [00:00<00:00, 128.15it/s]\n"
     ]
    }
   ],
   "source": [
    "query = normalize_words([query])"
   ]
  },
  {
   "cell_type": "code",
   "execution_count": 145,
   "metadata": {},
   "outputs": [
    {
     "data": {
      "text/plain": [
       "{'واکسیناسیون': {0: 1}, 'بیماری': {0: 1}, 'کرونا': {0: 1}}"
      ]
     },
     "execution_count": 145,
     "metadata": {},
     "output_type": "execute_result"
    }
   ],
   "source": [
    "query"
   ]
  },
  {
   "cell_type": "code",
   "execution_count": 146,
   "metadata": {},
   "outputs": [
    {
     "name": "stdout",
     "output_type": "stream",
     "text": [
      "واکسیناسیون\n",
      "1\n",
      "بیماری\n",
      "2\n",
      "کرونا\n",
      "3\n"
     ]
    }
   ],
   "source": [
    "match = []\n",
    "for q in query.keys():\n",
    "    for iw in indexed_words.keys():\n",
    "        if q == iw:\n",
    "            print(iw)\n",
    "            match.append(list(indexed_words[iw].keys()))\n",
    "            print(len(match))\n",
    "#     return match"
   ]
  },
  {
   "cell_type": "code",
   "execution_count": 147,
   "metadata": {},
   "outputs": [
    {
     "data": {
      "text/plain": [
       "3"
      ]
     },
     "execution_count": 147,
     "metadata": {},
     "output_type": "execute_result"
    }
   ],
   "source": [
    "len(match)"
   ]
  },
  {
   "cell_type": "code",
   "execution_count": 148,
   "metadata": {},
   "outputs": [],
   "source": [
    "def intersection(lst1, lst2):\n",
    "    lst3 = [value for value in lst1 if value in lst2]\n",
    "    return lst3"
   ]
  },
  {
   "cell_type": "code",
   "execution_count": 149,
   "metadata": {},
   "outputs": [],
   "source": [
    "mm = match[0]\n",
    "for m in match:\n",
    "    mm = intersection(mm,m)"
   ]
  },
  {
   "cell_type": "code",
   "execution_count": 150,
   "metadata": {},
   "outputs": [
    {
     "data": {
      "text/plain": [
       "[5589,\n",
       " 5681,\n",
       " 5960,\n",
       " 5999,\n",
       " 6001,\n",
       " 6011,\n",
       " 6018,\n",
       " 6034,\n",
       " 6041,\n",
       " 6123,\n",
       " 6226,\n",
       " 6269,\n",
       " 6397,\n",
       " 6404,\n",
       " 6424,\n",
       " 6431,\n",
       " 6440,\n",
       " 6502,\n",
       " 6504,\n",
       " 6505,\n",
       " 6509]"
      ]
     },
     "execution_count": 150,
     "metadata": {},
     "output_type": "execute_result"
    }
   ],
   "source": [
    "mm"
   ]
  },
  {
   "cell_type": "code",
   "execution_count": 191,
   "metadata": {},
   "outputs": [
    {
     "ename": "NameError",
     "evalue": "name 'mm' is not defined",
     "output_type": "error",
     "traceback": [
      "\u001b[0;31m---------------------------------------------------------------------------\u001b[0m",
      "\u001b[0;31mNameError\u001b[0m                                 Traceback (most recent call last)",
      "\u001b[0;32m<ipython-input-191-3ada39f25e81>\u001b[0m in \u001b[0;36m<module>\u001b[0;34m\u001b[0m\n\u001b[0;32m----> 1\u001b[0;31m \u001b[0mdf\u001b[0m\u001b[0;34m[\u001b[0m\u001b[0mdf\u001b[0m\u001b[0;34m.\u001b[0m\u001b[0mindex\u001b[0m\u001b[0;34m.\u001b[0m\u001b[0misin\u001b[0m\u001b[0;34m(\u001b[0m\u001b[0mmm\u001b[0m\u001b[0;34m)\u001b[0m\u001b[0;34m]\u001b[0m\u001b[0;34m\u001b[0m\u001b[0;34m\u001b[0m\u001b[0m\n\u001b[0m",
      "\u001b[0;31mNameError\u001b[0m: name 'mm' is not defined"
     ]
    }
   ],
   "source": [
    "df[df.index.isin(mm)]"
   ]
  },
  {
   "cell_type": "markdown",
   "metadata": {},
   "source": [
    "# فاز دو"
   ]
  },
  {
   "cell_type": "code",
   "execution_count": null,
   "metadata": {},
   "outputs": [],
   "source": [
    "def normalize_words(text_list):\n",
    "  words_dict = {}\n",
    "  for i in tqdm(range(len(text_list))):\n",
    "    temp_words = text_list[i].split()\n",
    "    temp_words = [w.strip() for w in temp_words if w.strip() not in stop_words]\n",
    "    \n",
    "    # print\n",
    "    # for word in text_list[i].split():\n",
    "    #   if word in stop_words:\n",
    "    #     word = \"\"\n",
    "    x = temp_words\n",
    "    for j in range(len(temp_words)):\n",
    "      temp_words[j] = delete_punctuations(temp_words[j])\n",
    "      temp_words[j] = delete_none_words(temp_words[j])\n",
    "      temp_words[j] = normalize_verb(temp_words[j])\n",
    "      for s in suffix_u:\n",
    "        if s in temp_words[j]:\n",
    "          temp_words[j] = delete_suffix(temp_words[j],s)\n",
    "          break\n",
    "      for s in suffix:\n",
    "        if s in temp_words[j]:\n",
    "          temp_words[j] = delete_suffix(temp_words[j],s,u=0)\n",
    "          break\n",
    "    temp_words = [w for w in temp_words if w.strip() not in stop_words]\n",
    "\n",
    "    words = list(map(str.strip, temp_words))\n",
    "    for j in range(len(words)):\n",
    "      if words[j] not in words_dict.keys():\n",
    "        words_dict[words[j]] = {}\n",
    "      if i not in words_dict[words[j]].keys():\n",
    "        words_dict[words[j]][i] = 1\n",
    "      else:\n",
    "        words_dict[words[j]][i] += 1\n",
    "  return words_dict"
   ]
  },
  {
   "cell_type": "code",
   "execution_count": 79,
   "metadata": {},
   "outputs": [],
   "source": [
    "dfs = {}\n",
    "for word in indexed_words.keys():\n",
    "    dfs[word] = len(indexed_words[word])"
   ]
  },
  {
   "cell_type": "code",
   "execution_count": 169,
   "metadata": {},
   "outputs": [],
   "source": [
    "query = 'واکسیناسیون بیماری کرونا در جهان'"
   ]
  },
  {
   "cell_type": "code",
   "execution_count": 170,
   "metadata": {},
   "outputs": [
    {
     "name": "stderr",
     "output_type": "stream",
     "text": [
      "100%|██████████| 1/1 [00:00<00:00, 209.52it/s]\n"
     ]
    }
   ],
   "source": [
    "query = normalize_words([query])"
   ]
  },
  {
   "cell_type": "code",
   "execution_count": 171,
   "metadata": {},
   "outputs": [
    {
     "data": {
      "text/plain": [
       "{'واکسیناسیون': {0: 1}, 'بیماری': {0: 1}, 'کرونا': {0: 1}, 'جهان': {0: 1}}"
      ]
     },
     "execution_count": 171,
     "metadata": {},
     "output_type": "execute_result"
    }
   ],
   "source": [
    "query"
   ]
  },
  {
   "cell_type": "code",
   "execution_count": 172,
   "metadata": {},
   "outputs": [
    {
     "name": "stdout",
     "output_type": "stream",
     "text": [
      "واکسیناسیون\n",
      "1\n",
      "بیماری\n",
      "2\n",
      "کرونا\n",
      "3\n",
      "جهان\n",
      "4\n"
     ]
    }
   ],
   "source": [
    "match = []\n",
    "for q in query.keys():\n",
    "    for iw in indexed_words.keys():\n",
    "        if q == iw:\n",
    "            print(iw)\n",
    "            match.append(list(indexed_words[iw].keys()))\n",
    "            print(len(match))\n",
    "#     return match"
   ]
  },
  {
   "cell_type": "code",
   "execution_count": 173,
   "metadata": {},
   "outputs": [
    {
     "data": {
      "text/plain": [
       "4"
      ]
     },
     "execution_count": 173,
     "metadata": {},
     "output_type": "execute_result"
    }
   ],
   "source": [
    "len(match)"
   ]
  },
  {
   "cell_type": "code",
   "execution_count": 174,
   "metadata": {},
   "outputs": [],
   "source": [
    "import math"
   ]
  },
  {
   "cell_type": "code",
   "execution_count": 175,
   "metadata": {},
   "outputs": [],
   "source": [
    "def intersection(lst1, lst2):\n",
    "    lst3 = [value for value in lst1 if value in lst2]\n",
    "    return lst3"
   ]
  },
  {
   "cell_type": "code",
   "execution_count": 176,
   "metadata": {},
   "outputs": [],
   "source": [
    "mm = match[0]\n",
    "for m in match:\n",
    "    mm = intersection(mm,m)"
   ]
  },
  {
   "cell_type": "code",
   "execution_count": 177,
   "metadata": {},
   "outputs": [],
   "source": [
    "def compute_distance(query, words):\n",
    "    N = len(words)\n",
    "    length = [0]*N\n",
    "    scores = [0]*N\n",
    "    for term in tqdm(query.keys()):\n",
    "        print(term)\n",
    "        print(dfs[term])\n",
    "        idf = math.log(N/dfs[term])\n",
    "        w_tq = (1+math.log(query[term][0])) * idf\n",
    "        for docid in words[term].keys():\n",
    "            w_td = (math.log(words[term][docid]) + 1)\n",
    "            scores[docid]+= w_td * w_tq\n",
    "            length[docid]+= (w_td**2)\n",
    "    for docid in range(N):\n",
    "        if scores[docid]:\n",
    "            scores[docid] /= (length[docid]**0.5)\n",
    "    return scores"
   ]
  },
  {
   "cell_type": "code",
   "execution_count": 178,
   "metadata": {},
   "outputs": [
    {
     "name": "stderr",
     "output_type": "stream",
     "text": [
      "100%|██████████| 4/4 [00:00<00:00, 847.42it/s]"
     ]
    },
    {
     "name": "stdout",
     "output_type": "stream",
     "text": [
      "واکسیناسیون\n",
      "55\n",
      "بیماری\n",
      "1137\n",
      "کرونا\n",
      "1359\n",
      "جهان\n",
      "661\n"
     ]
    },
    {
     "name": "stderr",
     "output_type": "stream",
     "text": [
      "\n"
     ]
    }
   ],
   "source": [
    "scores = compute_distance(query,indexed_words)"
   ]
  },
  {
   "cell_type": "code",
   "execution_count": 179,
   "metadata": {},
   "outputs": [],
   "source": [
    "import numpy as np"
   ]
  },
  {
   "cell_type": "code",
   "execution_count": 180,
   "metadata": {},
   "outputs": [],
   "source": [
    "# sorted_scores = np.argsort(scores)"
   ]
  },
  {
   "cell_type": "code",
   "execution_count": 195,
   "metadata": {},
   "outputs": [],
   "source": [
    "def get_top_k(k, scores):\n",
    "    sorted_scores = np.argsort(scores)\n",
    "    a = sorted_scores[-1*k:]\n",
    "    top_k = a[::-1]\n",
    "    return top_k"
   ]
  },
  {
   "cell_type": "code",
   "execution_count": 196,
   "metadata": {},
   "outputs": [],
   "source": [
    "top_10 = get_top_k(10,scores)"
   ]
  },
  {
   "cell_type": "code",
   "execution_count": 197,
   "metadata": {},
   "outputs": [
    {
     "data": {
      "text/plain": [
       "array([6474, 6727, 6724, 6721, 6226, 5960, 6404, 5681, 6509, 3207])"
      ]
     },
     "execution_count": 197,
     "metadata": {},
     "output_type": "execute_result"
    }
   ],
   "source": [
    "top_10"
   ]
  },
  {
   "cell_type": "code",
   "execution_count": 198,
   "metadata": {},
   "outputs": [
    {
     "name": "stdout",
     "output_type": "stream",
     "text": [
      "id                                                      6475\n",
      "content    ابراهیم رضایی در ارائه گزارش به خبرنگاران به م...\n",
      "url        https://www.isna.ir/news/99121209285/استان-بوش...\n",
      "Name: 6474, dtype: object\n"
     ]
    }
   ],
   "source": [
    "# for d in top_k:\n",
    "print(df.loc[top_10[0]])"
   ]
  },
  {
   "cell_type": "markdown",
   "metadata": {},
   "source": [
    "# Champion List"
   ]
  },
  {
   "cell_type": "code",
   "execution_count": 199,
   "metadata": {},
   "outputs": [],
   "source": [
    "def make_champions(r, indexed_words):\n",
    "    champion_list = {}\n",
    "    for term in indexed_words:\n",
    "        doc_dict = indexed_words[term].copy()\n",
    "        champions = dict(sorted(doc_dict.items(), key=lambda x: x[1], reverse=True)[:r])\n",
    "        champion_list[term] = champions\n",
    "    return champion_list"
   ]
  },
  {
   "cell_type": "code",
   "execution_count": 200,
   "metadata": {},
   "outputs": [
    {
     "name": "stderr",
     "output_type": "stream",
     "text": [
      "100%|██████████| 4/4 [00:00<00:00, 2358.67it/s]"
     ]
    },
    {
     "name": "stdout",
     "output_type": "stream",
     "text": [
      "واکسیناسیون\n",
      "55\n",
      "بیماری\n",
      "1137\n",
      "کرونا\n",
      "1359\n",
      "جهان\n",
      "661\n"
     ]
    },
    {
     "name": "stderr",
     "output_type": "stream",
     "text": [
      "\n"
     ]
    }
   ],
   "source": [
    "champion_list = make_champions(5,indexed_words)\n",
    "champion_sims = compute_distance(query,champion_list)"
   ]
  },
  {
   "cell_type": "code",
   "execution_count": 201,
   "metadata": {},
   "outputs": [],
   "source": [
    "top_10 = get_top_k(10,champion_sims)"
   ]
  },
  {
   "cell_type": "code",
   "execution_count": 202,
   "metadata": {},
   "outputs": [
    {
     "data": {
      "text/plain": [
       "array([6407, 5960, 6454, 6269, 6440, 6123, 1317,  977, 1623,   32])"
      ]
     },
     "execution_count": 202,
     "metadata": {},
     "output_type": "execute_result"
    }
   ],
   "source": [
    "top_10"
   ]
  },
  {
   "cell_type": "code",
   "execution_count": 203,
   "metadata": {},
   "outputs": [
    {
     "name": "stdout",
     "output_type": "stream",
     "text": [
      "id                                                      6408\n",
      "content    سیدعلی آقازاده در گفت‌وگو با ایسنا، اظهار کرد:...\n",
      "url        https://www.isna.ir/news/99112014708/واکسن-کرو...\n",
      "Name: 6407, dtype: object\n"
     ]
    }
   ],
   "source": [
    "print(df.loc[top_10[0]])"
   ]
  },
  {
   "cell_type": "code",
   "execution_count": 38,
   "metadata": {},
   "outputs": [
    {
     "name": "stdout",
     "output_type": "stream",
     "text": [
      "/usr/lib/python3/dist-packages/secretstorage/dhcrypto.py:15: CryptographyDeprecationWarning: int_from_bytes is deprecated, use int.from_bytes instead\n",
      "  from cryptography.utils import int_from_bytes\n",
      "/usr/lib/python3/dist-packages/secretstorage/util.py:19: CryptographyDeprecationWarning: int_from_bytes is deprecated, use int.from_bytes instead\n",
      "  from cryptography.utils import int_from_bytes\n",
      "Defaulting to user installation because normal site-packages is not writeable\n",
      "Requirement already satisfied: xlrd in /home/kiankr/.local/lib/python3.6/site-packages (2.0.1)\n",
      "\u001b[33mWARNING: You are using pip version 21.0.1; however, version 21.1.3 is available.\n",
      "You should consider upgrading via the '/usr/bin/python3 -m pip install --upgrade pip' command.\u001b[0m\n"
     ]
    }
   ],
   "source": [
    "!pip3 install xlrd"
   ]
  },
  {
   "cell_type": "code",
   "execution_count": null,
   "metadata": {},
   "outputs": [],
   "source": []
  },
  {
   "cell_type": "markdown",
   "metadata": {},
   "source": [
    "# فاز سه"
   ]
  },
  {
   "cell_type": "code",
   "execution_count": 45,
   "metadata": {},
   "outputs": [],
   "source": [
    "news_11k = pd.read_csv('IR00_3_11k News.csv')\n",
    "news_17k = pd.read_csv('IR00_3_17k News.csv')\n",
    "news_20k = pd.read_csv('IR00_3_20k News.csv')"
   ]
  },
  {
   "cell_type": "code",
   "execution_count": 46,
   "metadata": {},
   "outputs": [
    {
     "data": {
      "text/html": [
       "<div>\n",
       "<style scoped>\n",
       "    .dataframe tbody tr th:only-of-type {\n",
       "        vertical-align: middle;\n",
       "    }\n",
       "\n",
       "    .dataframe tbody tr th {\n",
       "        vertical-align: top;\n",
       "    }\n",
       "\n",
       "    .dataframe thead th {\n",
       "        text-align: right;\n",
       "    }\n",
       "</style>\n",
       "<table border=\"1\" class=\"dataframe\">\n",
       "  <thead>\n",
       "    <tr style=\"text-align: right;\">\n",
       "      <th></th>\n",
       "      <th>id</th>\n",
       "      <th>content</th>\n",
       "      <th>topic</th>\n",
       "      <th>url</th>\n",
       "    </tr>\n",
       "  </thead>\n",
       "  <tbody>\n",
       "    <tr>\n",
       "      <th>0</th>\n",
       "      <td>1</td>\n",
       "      <td>به گزارش ایسنا، پس از استعفا علی نکویی رئیس شا...</td>\n",
       "      <td>sport</td>\n",
       "      <td>https://www.isna.ir/news/99010100077/حواشی-در-...</td>\n",
       "    </tr>\n",
       "    <tr>\n",
       "      <th>1</th>\n",
       "      <td>2</td>\n",
       "      <td>به گزارش ایسنا، امیر محسنی با بیان اینکه این ل...</td>\n",
       "      <td>sport</td>\n",
       "      <td>https://www.isna.ir/news/98122922468/ثبت-نام-ب...</td>\n",
       "    </tr>\n",
       "    <tr>\n",
       "      <th>2</th>\n",
       "      <td>3</td>\n",
       "      <td>آرش فرهادیان در گفت و گو با ایسنا، درباره آخری...</td>\n",
       "      <td>sport</td>\n",
       "      <td>https://www.isna.ir/news/99010200541/فرهادیان-...</td>\n",
       "    </tr>\n",
       "    <tr>\n",
       "      <th>3</th>\n",
       "      <td>4</td>\n",
       "      <td>به گزارش ایسنا، فدراسیون بین المللی شنا قانونی...</td>\n",
       "      <td>sport</td>\n",
       "      <td>https://www.isna.ir/news/99010200528/فناوری-وی...</td>\n",
       "    </tr>\n",
       "    <tr>\n",
       "      <th>4</th>\n",
       "      <td>5</td>\n",
       "      <td>به گزارش ایسنا، فدراسیون جهانی صعودهای ورزشی (...</td>\n",
       "      <td>sport</td>\n",
       "      <td>https://www.isna.ir/news/99010200510/تعویق-زما...</td>\n",
       "    </tr>\n",
       "    <tr>\n",
       "      <th>...</th>\n",
       "      <td>...</td>\n",
       "      <td>...</td>\n",
       "      <td>...</td>\n",
       "      <td>...</td>\n",
       "    </tr>\n",
       "    <tr>\n",
       "      <th>11432</th>\n",
       "      <td>11433</td>\n",
       "      <td>به گزارش ایسنا، کمپین کرونا فایترز (Corona Fig...</td>\n",
       "      <td>culture</td>\n",
       "      <td>https://www.isna.ir/news/98122922416/جشنواره-ه...</td>\n",
       "    </tr>\n",
       "    <tr>\n",
       "      <th>11433</th>\n",
       "      <td>11434</td>\n",
       "      <td>عباسی انارکی در گفت‌وگویی با ایسنا در پی برخی ...</td>\n",
       "      <td>culture</td>\n",
       "      <td>https://www.isna.ir/news/98122922382/توضیحات-م...</td>\n",
       "    </tr>\n",
       "    <tr>\n",
       "      <th>11434</th>\n",
       "      <td>11435</td>\n",
       "      <td>**به گزارش ایسنا** ، دکتر محمد منصورنژاد در یا...</td>\n",
       "      <td>culture</td>\n",
       "      <td>https://www.isna.ir/news/98122922381/بیماری-ها...</td>\n",
       "    </tr>\n",
       "    <tr>\n",
       "      <th>11435</th>\n",
       "      <td>11436</td>\n",
       "      <td>ایرج راد، رئیس هیئت مدیره خانه تئاتر که از طری...</td>\n",
       "      <td>culture</td>\n",
       "      <td>https://www.isna.ir/news/98122922326/بهبودی-به...</td>\n",
       "    </tr>\n",
       "    <tr>\n",
       "      <th>11436</th>\n",
       "      <td>11437</td>\n",
       "      <td>به گزارش ایسنا، به دنبال مطرح شدن برخی اظهارنظ...</td>\n",
       "      <td>culture</td>\n",
       "      <td>https://www.isna.ir/news/98122922289/مردم-تا-۱...</td>\n",
       "    </tr>\n",
       "  </tbody>\n",
       "</table>\n",
       "<p>11437 rows × 4 columns</p>\n",
       "</div>"
      ],
      "text/plain": [
       "          id                                            content    topic  \\\n",
       "0          1  به گزارش ایسنا، پس از استعفا علی نکویی رئیس شا...    sport   \n",
       "1          2  به گزارش ایسنا، امیر محسنی با بیان اینکه این ل...    sport   \n",
       "2          3  آرش فرهادیان در گفت و گو با ایسنا، درباره آخری...    sport   \n",
       "3          4  به گزارش ایسنا، فدراسیون بین المللی شنا قانونی...    sport   \n",
       "4          5  به گزارش ایسنا، فدراسیون جهانی صعودهای ورزشی (...    sport   \n",
       "...      ...                                                ...      ...   \n",
       "11432  11433  به گزارش ایسنا، کمپین کرونا فایترز (Corona Fig...  culture   \n",
       "11433  11434  عباسی انارکی در گفت‌وگویی با ایسنا در پی برخی ...  culture   \n",
       "11434  11435  **به گزارش ایسنا** ، دکتر محمد منصورنژاد در یا...  culture   \n",
       "11435  11436  ایرج راد، رئیس هیئت مدیره خانه تئاتر که از طری...  culture   \n",
       "11436  11437  به گزارش ایسنا، به دنبال مطرح شدن برخی اظهارنظ...  culture   \n",
       "\n",
       "                                                     url  \n",
       "0      https://www.isna.ir/news/99010100077/حواشی-در-...  \n",
       "1      https://www.isna.ir/news/98122922468/ثبت-نام-ب...  \n",
       "2      https://www.isna.ir/news/99010200541/فرهادیان-...  \n",
       "3      https://www.isna.ir/news/99010200528/فناوری-وی...  \n",
       "4      https://www.isna.ir/news/99010200510/تعویق-زما...  \n",
       "...                                                  ...  \n",
       "11432  https://www.isna.ir/news/98122922416/جشنواره-ه...  \n",
       "11433  https://www.isna.ir/news/98122922382/توضیحات-م...  \n",
       "11434  https://www.isna.ir/news/98122922381/بیماری-ها...  \n",
       "11435  https://www.isna.ir/news/98122922326/بهبودی-به...  \n",
       "11436  https://www.isna.ir/news/98122922289/مردم-تا-۱...  \n",
       "\n",
       "[11437 rows x 4 columns]"
      ]
     },
     "execution_count": 46,
     "metadata": {},
     "output_type": "execute_result"
    }
   ],
   "source": [
    "news_11k"
   ]
  },
  {
   "cell_type": "code",
   "execution_count": 48,
   "metadata": {},
   "outputs": [
    {
     "data": {
      "text/html": [
       "<div>\n",
       "<style scoped>\n",
       "    .dataframe tbody tr th:only-of-type {\n",
       "        vertical-align: middle;\n",
       "    }\n",
       "\n",
       "    .dataframe tbody tr th {\n",
       "        vertical-align: top;\n",
       "    }\n",
       "\n",
       "    .dataframe thead th {\n",
       "        text-align: right;\n",
       "    }\n",
       "</style>\n",
       "<table border=\"1\" class=\"dataframe\">\n",
       "  <thead>\n",
       "    <tr style=\"text-align: right;\">\n",
       "      <th></th>\n",
       "      <th>id</th>\n",
       "      <th>content</th>\n",
       "      <th>topic</th>\n",
       "      <th>url</th>\n",
       "    </tr>\n",
       "  </thead>\n",
       "  <tbody>\n",
       "    <tr>\n",
       "      <th>0</th>\n",
       "      <td>1</td>\n",
       "      <td>یوسف مرادلو در گفت‌وگو با خبرنگار اقتصادی خبرگ...</td>\n",
       "      <td>economy</td>\n",
       "      <td>https://www.farsnews.ir/news/14000205000595/را...</td>\n",
       "    </tr>\n",
       "    <tr>\n",
       "      <th>1</th>\n",
       "      <td>2</td>\n",
       "      <td>به گزارش خبرنگار اقتصادی خبرگزاری فارس، حدود س...</td>\n",
       "      <td>economy</td>\n",
       "      <td>https://www.farsnews.ir/news/14000205000985/بر...</td>\n",
       "    </tr>\n",
       "    <tr>\n",
       "      <th>2</th>\n",
       "      <td>3</td>\n",
       "      <td>علی اوسط هاشمی در گفت‌وگو با خبرنگار اقتصادی خ...</td>\n",
       "      <td>economy</td>\n",
       "      <td>https://www.farsnews.ir/news/14000205000818/تد...</td>\n",
       "    </tr>\n",
       "    <tr>\n",
       "      <th>3</th>\n",
       "      <td>4</td>\n",
       "      <td>به گزارش خبرنگار اقتصادی خبرگزاری فارس، موضوع ...</td>\n",
       "      <td>economy</td>\n",
       "      <td>https://www.farsnews.ir/news/14000204000416/کد...</td>\n",
       "    </tr>\n",
       "    <tr>\n",
       "      <th>4</th>\n",
       "      <td>5</td>\n",
       "      <td>به گز‌ارش خبرنگار اقتصادی خبرگز‌اری فارس روز چ...</td>\n",
       "      <td>economy</td>\n",
       "      <td>https://www.farsnews.ir/news/14000205000641/پر...</td>\n",
       "    </tr>\n",
       "    <tr>\n",
       "      <th>...</th>\n",
       "      <td>...</td>\n",
       "      <td>...</td>\n",
       "      <td>...</td>\n",
       "      <td>...</td>\n",
       "    </tr>\n",
       "    <tr>\n",
       "      <th>17959</th>\n",
       "      <td>17960</td>\n",
       "      <td>به گزارش خبرنگار قرآن و فعالیت‌های دینی خبرگزا...</td>\n",
       "      <td>culture</td>\n",
       "      <td>https://www.farsnews.ir/news/13990423000200/بر...</td>\n",
       "    </tr>\n",
       "    <tr>\n",
       "      <th>17960</th>\n",
       "      <td>17961</td>\n",
       "      <td>به گزارش خبرنگار کتاب و ادبیات خبرگزاری فارس، ...</td>\n",
       "      <td>culture</td>\n",
       "      <td>https://www.farsnews.ir/news/13990423000095/بر...</td>\n",
       "    </tr>\n",
       "    <tr>\n",
       "      <th>17961</th>\n",
       "      <td>17962</td>\n",
       "      <td>**خبرگزاری فارس ـ حوزه مسجد و هیأت ـ امیرحسین ...</td>\n",
       "      <td>culture</td>\n",
       "      <td>https://www.farsnews.ir/news/13990421000709/اح...</td>\n",
       "    </tr>\n",
       "    <tr>\n",
       "      <th>17962</th>\n",
       "      <td>17963</td>\n",
       "      <td>به گزارش خبرنگار حوزه مسجد و هیأت خبرگزاری فار...</td>\n",
       "      <td>culture</td>\n",
       "      <td>https://www.farsnews.ir/news/13990422000816/مس...</td>\n",
       "    </tr>\n",
       "    <tr>\n",
       "      <th>17963</th>\n",
       "      <td>17964</td>\n",
       "      <td>به گزارش خبرنگار حوزه مسجد و هیأت خبرگزاری فار...</td>\n",
       "      <td>culture</td>\n",
       "      <td>https://www.farsnews.ir/news/13990422000768/رف...</td>\n",
       "    </tr>\n",
       "  </tbody>\n",
       "</table>\n",
       "<p>17964 rows × 4 columns</p>\n",
       "</div>"
      ],
      "text/plain": [
       "          id                                            content    topic  \\\n",
       "0          1  یوسف مرادلو در گفت‌وگو با خبرنگار اقتصادی خبرگ...  economy   \n",
       "1          2  به گزارش خبرنگار اقتصادی خبرگزاری فارس، حدود س...  economy   \n",
       "2          3  علی اوسط هاشمی در گفت‌وگو با خبرنگار اقتصادی خ...  economy   \n",
       "3          4  به گزارش خبرنگار اقتصادی خبرگزاری فارس، موضوع ...  economy   \n",
       "4          5  به گز‌ارش خبرنگار اقتصادی خبرگز‌اری فارس روز چ...  economy   \n",
       "...      ...                                                ...      ...   \n",
       "17959  17960  به گزارش خبرنگار قرآن و فعالیت‌های دینی خبرگزا...  culture   \n",
       "17960  17961  به گزارش خبرنگار کتاب و ادبیات خبرگزاری فارس، ...  culture   \n",
       "17961  17962  **خبرگزاری فارس ـ حوزه مسجد و هیأت ـ امیرحسین ...  culture   \n",
       "17962  17963  به گزارش خبرنگار حوزه مسجد و هیأت خبرگزاری فار...  culture   \n",
       "17963  17964  به گزارش خبرنگار حوزه مسجد و هیأت خبرگزاری فار...  culture   \n",
       "\n",
       "                                                     url  \n",
       "0      https://www.farsnews.ir/news/14000205000595/را...  \n",
       "1      https://www.farsnews.ir/news/14000205000985/بر...  \n",
       "2      https://www.farsnews.ir/news/14000205000818/تد...  \n",
       "3      https://www.farsnews.ir/news/14000204000416/کد...  \n",
       "4      https://www.farsnews.ir/news/14000205000641/پر...  \n",
       "...                                                  ...  \n",
       "17959  https://www.farsnews.ir/news/13990423000200/بر...  \n",
       "17960  https://www.farsnews.ir/news/13990423000095/بر...  \n",
       "17961  https://www.farsnews.ir/news/13990421000709/اح...  \n",
       "17962  https://www.farsnews.ir/news/13990422000816/مس...  \n",
       "17963  https://www.farsnews.ir/news/13990422000768/رف...  \n",
       "\n",
       "[17964 rows x 4 columns]"
      ]
     },
     "execution_count": 48,
     "metadata": {},
     "output_type": "execute_result"
    }
   ],
   "source": [
    "news_17k"
   ]
  },
  {
   "cell_type": "code",
   "execution_count": 49,
   "metadata": {},
   "outputs": [
    {
     "data": {
      "text/html": [
       "<div>\n",
       "<style scoped>\n",
       "    .dataframe tbody tr th:only-of-type {\n",
       "        vertical-align: middle;\n",
       "    }\n",
       "\n",
       "    .dataframe tbody tr th {\n",
       "        vertical-align: top;\n",
       "    }\n",
       "\n",
       "    .dataframe thead th {\n",
       "        text-align: right;\n",
       "    }\n",
       "</style>\n",
       "<table border=\"1\" class=\"dataframe\">\n",
       "  <thead>\n",
       "    <tr style=\"text-align: right;\">\n",
       "      <th></th>\n",
       "      <th>id</th>\n",
       "      <th>content</th>\n",
       "      <th>topic</th>\n",
       "      <th>url</th>\n",
       "    </tr>\n",
       "  </thead>\n",
       "  <tbody>\n",
       "    <tr>\n",
       "      <th>0</th>\n",
       "      <td>1</td>\n",
       "      <td>به گزارش خبرگزاری فارس، به بهانه انتقال یولیان...</td>\n",
       "      <td>sports</td>\n",
       "      <td>https://www.farsnews.ir/news/14000207000773/گر...</td>\n",
       "    </tr>\n",
       "    <tr>\n",
       "      <th>1</th>\n",
       "      <td>2</td>\n",
       "      <td>به گزارش خبرگزاری فارس، ژردان شقیری قصد دارد ب...</td>\n",
       "      <td>sports</td>\n",
       "      <td>https://www.farsnews.ir/news/14000207000576/شق...</td>\n",
       "    </tr>\n",
       "    <tr>\n",
       "      <th>2</th>\n",
       "      <td>3</td>\n",
       "      <td>به گزارش خبرگزاری فارس، اورتونی ها برای فصل بع...</td>\n",
       "      <td>sports</td>\n",
       "      <td>https://www.farsnews.ir/news/14000207000599/او...</td>\n",
       "    </tr>\n",
       "    <tr>\n",
       "      <th>3</th>\n",
       "      <td>4</td>\n",
       "      <td>به گزارش خبرگزاری فارس، نهمین مرحله اردوی تیم ...</td>\n",
       "      <td>sports</td>\n",
       "      <td>https://www.farsnews.ir/news/14000207000678/تی...</td>\n",
       "    </tr>\n",
       "    <tr>\n",
       "      <th>4</th>\n",
       "      <td>5</td>\n",
       "      <td>به گزارش خبرگزاری فارس، نیکلاس زوله حدود 3 هفت...</td>\n",
       "      <td>sports</td>\n",
       "      <td>https://www.farsnews.ir/news/14000207000483/زو...</td>\n",
       "    </tr>\n",
       "    <tr>\n",
       "      <th>...</th>\n",
       "      <td>...</td>\n",
       "      <td>...</td>\n",
       "      <td>...</td>\n",
       "      <td>...</td>\n",
       "    </tr>\n",
       "    <tr>\n",
       "      <th>20655</th>\n",
       "      <td>20656</td>\n",
       "      <td>به گزارش حوزه پارلمانی خبرگزاری فارس، [محمدباق...</td>\n",
       "      <td>politics</td>\n",
       "      <td>https://www.farsnews.ir/news/13990612000494/پی...</td>\n",
       "    </tr>\n",
       "    <tr>\n",
       "      <th>20656</th>\n",
       "      <td>20657</td>\n",
       "      <td>به گزارش خبرنگار تشکل‌های دانشگاهی خبرگزاری فا...</td>\n",
       "      <td>politics</td>\n",
       "      <td>https://www.farsnews.ir/news/13990612000397/اع...</td>\n",
       "    </tr>\n",
       "    <tr>\n",
       "      <th>20657</th>\n",
       "      <td>20658</td>\n",
       "      <td>به گزارش خبرنگار حوزه دولت خبرگزاری فارس، رضا ...</td>\n",
       "      <td>politics</td>\n",
       "      <td>https://www.farsnews.ir/news/13990612000425/اف...</td>\n",
       "    </tr>\n",
       "    <tr>\n",
       "      <th>20658</th>\n",
       "      <td>20659</td>\n",
       "      <td>به گزارش خبرنگار دولت خبرگزاری فارس، محسن حاجی...</td>\n",
       "      <td>politics</td>\n",
       "      <td>https://www.farsnews.ir/news/13990612000435/وز...</td>\n",
       "    </tr>\n",
       "    <tr>\n",
       "      <th>20659</th>\n",
       "      <td>20660</td>\n",
       "      <td>حجت‌الاسلام علیرضا سلیمی نماینده مردم محلات در...</td>\n",
       "      <td>politics</td>\n",
       "      <td>https://www.farsnews.ir/news/13990611001190/سل...</td>\n",
       "    </tr>\n",
       "  </tbody>\n",
       "</table>\n",
       "<p>20660 rows × 4 columns</p>\n",
       "</div>"
      ],
      "text/plain": [
       "          id                                            content     topic  \\\n",
       "0          1  به گزارش خبرگزاری فارس، به بهانه انتقال یولیان...    sports   \n",
       "1          2  به گزارش خبرگزاری فارس، ژردان شقیری قصد دارد ب...    sports   \n",
       "2          3  به گزارش خبرگزاری فارس، اورتونی ها برای فصل بع...    sports   \n",
       "3          4  به گزارش خبرگزاری فارس، نهمین مرحله اردوی تیم ...    sports   \n",
       "4          5  به گزارش خبرگزاری فارس، نیکلاس زوله حدود 3 هفت...    sports   \n",
       "...      ...                                                ...       ...   \n",
       "20655  20656  به گزارش حوزه پارلمانی خبرگزاری فارس، [محمدباق...  politics   \n",
       "20656  20657  به گزارش خبرنگار تشکل‌های دانشگاهی خبرگزاری فا...  politics   \n",
       "20657  20658  به گزارش خبرنگار حوزه دولت خبرگزاری فارس، رضا ...  politics   \n",
       "20658  20659  به گزارش خبرنگار دولت خبرگزاری فارس، محسن حاجی...  politics   \n",
       "20659  20660  حجت‌الاسلام علیرضا سلیمی نماینده مردم محلات در...  politics   \n",
       "\n",
       "                                                     url  \n",
       "0      https://www.farsnews.ir/news/14000207000773/گر...  \n",
       "1      https://www.farsnews.ir/news/14000207000576/شق...  \n",
       "2      https://www.farsnews.ir/news/14000207000599/او...  \n",
       "3      https://www.farsnews.ir/news/14000207000678/تی...  \n",
       "4      https://www.farsnews.ir/news/14000207000483/زو...  \n",
       "...                                                  ...  \n",
       "20655  https://www.farsnews.ir/news/13990612000494/پی...  \n",
       "20656  https://www.farsnews.ir/news/13990612000397/اع...  \n",
       "20657  https://www.farsnews.ir/news/13990612000425/اف...  \n",
       "20658  https://www.farsnews.ir/news/13990612000435/وز...  \n",
       "20659  https://www.farsnews.ir/news/13990611001190/سل...  \n",
       "\n",
       "[20660 rows x 4 columns]"
      ]
     },
     "execution_count": 49,
     "metadata": {},
     "output_type": "execute_result"
    }
   ],
   "source": [
    "news_20k"
   ]
  },
  {
   "cell_type": "code",
   "execution_count": 121,
   "metadata": {},
   "outputs": [],
   "source": [
    "with open('indexed_words.pickle', 'rb') as handle:\n",
    "    indexed_words = pickle.load(handle)"
   ]
  },
  {
   "cell_type": "code",
   "execution_count": 122,
   "metadata": {},
   "outputs": [
    {
     "data": {
      "text/plain": [
       "23531"
      ]
     },
     "execution_count": 122,
     "metadata": {},
     "output_type": "execute_result"
    }
   ],
   "source": [
    "len(indexed_words)"
   ]
  },
  {
   "cell_type": "code",
   "execution_count": 123,
   "metadata": {},
   "outputs": [],
   "source": [
    "def get_length(doc):\n",
    "    length = 0\n",
    "    for term in doc.keys():\n",
    "        length += doc[term]**2\n",
    "    length = length**0.5\n",
    "    return length"
   ]
  },
  {
   "cell_type": "code",
   "execution_count": 124,
   "metadata": {},
   "outputs": [],
   "source": [
    "def make_doc_vectors(words):\n",
    "    documents = {}\n",
    "    lengths = [0]*len(documents)\n",
    "    for word in words.keys():\n",
    "        for doc in words[word].keys():\n",
    "            if doc not in documents.keys():\n",
    "                documents[doc] = {}\n",
    "            documents[doc][word] = words[word][doc]\n",
    "    return documents"
   ]
  },
  {
   "cell_type": "code",
   "execution_count": 125,
   "metadata": {},
   "outputs": [],
   "source": [
    "documents = make_doc_vectors(indexed_words)"
   ]
  },
  {
   "cell_type": "code",
   "execution_count": 126,
   "metadata": {},
   "outputs": [],
   "source": [
    "import random"
   ]
  },
  {
   "cell_type": "code",
   "execution_count": 242,
   "metadata": {},
   "outputs": [],
   "source": [
    "def choose_centers(k,documents,doc_center):\n",
    "    diff_docs = []\n",
    "    for i in doc_center:\n",
    "        if i not in diff_docs:\n",
    "            diff_docs.append(i)\n",
    "    print(diff_docs)\n",
    "    centers = [0]*k\n",
    "    counter = [0]*k\n",
    "    for doc in documents.keys():\n",
    "        center_index = doc_center[doc]\n",
    "        centers[center_index] = {}\n",
    "        counter[center_index] += 1\n",
    "        for term in documents[doc]:\n",
    "            if term in centers[center_index]:\n",
    "                centers[center_index][term]+=documents[doc][term]\n",
    "            else:\n",
    "                centers[center_index][term] = documents[doc][term]\n",
    "#     print(centers)\n",
    "    for center in centers:\n",
    "        if not center:\n",
    "            print(centers.index(center))\n",
    "#     for center in range(len(centers)):\n",
    "#         if not centers[center]:\n",
    "#             continue\n",
    "#         for word in centers[center].keys():\n",
    "#             centers[center][word]/=counter[center]\n",
    "    return centers"
   ]
  },
  {
   "cell_type": "code",
   "execution_count": 243,
   "metadata": {},
   "outputs": [],
   "source": [
    "def k_means(k,documents):\n",
    "    centers = []\n",
    "    doc_centers = [0]*len(documents)\n",
    "    for i in range(k):\n",
    "        centers.append(documents[random.randint(0,len(documents))])\n",
    "    for i in tqdm(range(20)):\n",
    "        for doc in documents.keys():\n",
    "            max_sim = -1*math.inf\n",
    "            for center in centers:\n",
    "                if not center:\n",
    "                    continue\n",
    "                sim = 0\n",
    "                for term in documents[doc].keys():\n",
    "# #                     if term == 'center':\n",
    "#                         continue\n",
    "                    if term in center.keys():\n",
    "#                         print(term)\n",
    "#                         print('1',math.log(documents[doc][term]))\n",
    "# #                         print('2',math.log(len(documents)/dfs[term]))\n",
    "#                         print('3',math.log(center[term]))\n",
    "                        sim+= (math.log(documents[doc][term])+1) * math.log(len(documents)/dfs[term]) * (math.log(center[term])+1) \n",
    "#                         print(sim)\n",
    "                sim/= get_length(center)\n",
    "                if sim > max_sim:\n",
    "                    max_sim = sim\n",
    "                    max_center = center\n",
    "            doc_centers[doc] = centers.index(max_center)\n",
    "        centers = choose_centers(k,documents,doc_centers)\n",
    "    return doc_centers, centers"
   ]
  },
  {
   "cell_type": "code",
   "execution_count": 244,
   "metadata": {},
   "outputs": [
    {
     "name": "stderr",
     "output_type": "stream",
     "text": [
      "  5%|▌         | 1/20 [00:02<00:47,  2.49s/it]"
     ]
    },
    {
     "name": "stdout",
     "output_type": "stream",
     "text": [
      "[0, 2, 1, 4, 3]\n",
      "[3, 4, 2, 0, 1]\n"
     ]
    },
    {
     "name": "stderr",
     "output_type": "stream",
     "text": [
      "\r",
      " 10%|█         | 2/20 [00:03<00:39,  2.17s/it]"
     ]
    },
    {
     "name": "stdout",
     "output_type": "stream",
     "text": [
      "[3, 4, 2, 0, 1]\n"
     ]
    },
    {
     "name": "stderr",
     "output_type": "stream",
     "text": [
      "\r",
      " 15%|█▌        | 3/20 [00:05<00:33,  1.96s/it]"
     ]
    },
    {
     "name": "stdout",
     "output_type": "stream",
     "text": [
      "[3, 4, 2, 0, 1]\n"
     ]
    },
    {
     "name": "stderr",
     "output_type": "stream",
     "text": [
      "\r",
      " 20%|██        | 4/20 [00:06<00:29,  1.83s/it]"
     ]
    },
    {
     "name": "stdout",
     "output_type": "stream",
     "text": [
      "[3, 4, 2, 0, 1]\n"
     ]
    },
    {
     "name": "stderr",
     "output_type": "stream",
     "text": [
      "\r",
      " 25%|██▌       | 5/20 [00:08<00:25,  1.71s/it]"
     ]
    },
    {
     "name": "stdout",
     "output_type": "stream",
     "text": [
      "[3, 4, 2, 0, 1]\n"
     ]
    },
    {
     "name": "stderr",
     "output_type": "stream",
     "text": [
      "\r",
      " 30%|███       | 6/20 [00:09<00:22,  1.63s/it]"
     ]
    },
    {
     "name": "stdout",
     "output_type": "stream",
     "text": [
      "[3, 4, 2, 0, 1]\n"
     ]
    },
    {
     "name": "stderr",
     "output_type": "stream",
     "text": [
      "\r",
      " 35%|███▌      | 7/20 [00:11<00:20,  1.60s/it]"
     ]
    },
    {
     "name": "stdout",
     "output_type": "stream",
     "text": [
      "[3, 4, 2, 0, 1]\n"
     ]
    },
    {
     "name": "stderr",
     "output_type": "stream",
     "text": [
      "\r",
      " 40%|████      | 8/20 [00:12<00:18,  1.55s/it]"
     ]
    },
    {
     "name": "stdout",
     "output_type": "stream",
     "text": [
      "[3, 4, 2, 0, 1]\n"
     ]
    },
    {
     "name": "stderr",
     "output_type": "stream",
     "text": [
      "\r",
      " 45%|████▌     | 9/20 [00:14<00:16,  1.53s/it]"
     ]
    },
    {
     "name": "stdout",
     "output_type": "stream",
     "text": [
      "[3, 4, 2, 0, 1]\n"
     ]
    },
    {
     "name": "stderr",
     "output_type": "stream",
     "text": [
      "\r",
      " 50%|█████     | 10/20 [00:15<00:15,  1.55s/it]"
     ]
    },
    {
     "name": "stdout",
     "output_type": "stream",
     "text": [
      "[3, 4, 2, 0, 1]\n"
     ]
    },
    {
     "name": "stderr",
     "output_type": "stream",
     "text": [
      "\r",
      " 55%|█████▌    | 11/20 [00:17<00:13,  1.52s/it]"
     ]
    },
    {
     "name": "stdout",
     "output_type": "stream",
     "text": [
      "[3, 4, 2, 0, 1]\n"
     ]
    },
    {
     "name": "stderr",
     "output_type": "stream",
     "text": [
      "\r",
      " 60%|██████    | 12/20 [00:18<00:12,  1.56s/it]"
     ]
    },
    {
     "name": "stdout",
     "output_type": "stream",
     "text": [
      "[3, 4, 2, 0, 1]\n"
     ]
    },
    {
     "name": "stderr",
     "output_type": "stream",
     "text": [
      "\r",
      " 65%|██████▌   | 13/20 [00:20<00:10,  1.55s/it]"
     ]
    },
    {
     "name": "stdout",
     "output_type": "stream",
     "text": [
      "[3, 4, 2, 0, 1]\n"
     ]
    },
    {
     "name": "stderr",
     "output_type": "stream",
     "text": [
      "\r",
      " 70%|███████   | 14/20 [00:22<00:09,  1.55s/it]"
     ]
    },
    {
     "name": "stdout",
     "output_type": "stream",
     "text": [
      "[3, 4, 2, 0, 1]\n"
     ]
    },
    {
     "name": "stderr",
     "output_type": "stream",
     "text": [
      "\r",
      " 75%|███████▌  | 15/20 [00:23<00:07,  1.55s/it]"
     ]
    },
    {
     "name": "stdout",
     "output_type": "stream",
     "text": [
      "[3, 4, 2, 0, 1]\n"
     ]
    },
    {
     "name": "stderr",
     "output_type": "stream",
     "text": [
      "\r",
      " 80%|████████  | 16/20 [00:25<00:06,  1.54s/it]"
     ]
    },
    {
     "name": "stdout",
     "output_type": "stream",
     "text": [
      "[3, 4, 2, 0, 1]\n"
     ]
    },
    {
     "name": "stderr",
     "output_type": "stream",
     "text": [
      " 90%|█████████ | 18/20 [00:28<00:03,  1.54s/it]"
     ]
    },
    {
     "name": "stdout",
     "output_type": "stream",
     "text": [
      "[3, 4, 2, 0, 1]\n",
      "[3, 4, 2, 0, 1]\n"
     ]
    },
    {
     "name": "stderr",
     "output_type": "stream",
     "text": [
      "\r",
      " 95%|█████████▌| 19/20 [00:29<00:01,  1.51s/it]"
     ]
    },
    {
     "name": "stdout",
     "output_type": "stream",
     "text": [
      "[3, 4, 2, 0, 1]\n"
     ]
    },
    {
     "name": "stderr",
     "output_type": "stream",
     "text": [
      "100%|██████████| 20/20 [00:31<00:00,  1.55s/it]\n"
     ]
    }
   ],
   "source": [
    "new_docs, centers = k_means(5,documents.copy())"
   ]
  },
  {
   "cell_type": "markdown",
   "metadata": {},
   "source": [
    "centers"
   ]
  },
  {
   "cell_type": "code",
   "execution_count": 245,
   "metadata": {},
   "outputs": [],
   "source": [
    "query = 'جام جهانی فوتبال'"
   ]
  },
  {
   "cell_type": "code",
   "execution_count": 246,
   "metadata": {},
   "outputs": [],
   "source": [
    "def get_result(k,query,centers, doc_centers, documents):\n",
    "    query_words = normalize_words([query])\n",
    "    q_doc = make_doc_vectors(query_words)[0]\n",
    "#     print(q_doc)\n",
    "    max_sim = -1*math.inf\n",
    "    for center in centers:\n",
    "        sim = 0\n",
    "        for term in q_doc.keys():\n",
    "            if term in center:\n",
    "                print('گوه')\n",
    "                sim += (math.log(center[term])+1)*(math.log(q_doc[term])+1)*math.log(len(documents)/dfs[term])\n",
    "        if sim>max_sim:\n",
    "            print(sim,max_sim)\n",
    "            max_sim = sim\n",
    "            max_center = center\n",
    "    center_index = centers.index(max_center)\n",
    "    print(center_index)\n",
    "    doc_similarities = {}\n",
    "    for doc in documents.keys():\n",
    "        if doc_centers[doc]==center_index:\n",
    "            sim = 0\n",
    "            for term in q_doc.keys():\n",
    "#                 print(doc)\n",
    "                if term in documents[doc].keys():\n",
    "                    sim+= (math.log(documents[doc][term])+1)*(math.log(q_doc[term])+1)*math.log(len(documents)/dfs[term])\n",
    "            doc_similarities[doc] = sim\n",
    "    sorted_sims = [k for k, v in sorted(doc_similarities.items(), key=lambda item: item[1], reverse=True)]\n",
    "    return sorted_sims[:k]"
   ]
  },
  {
   "cell_type": "code",
   "execution_count": 247,
   "metadata": {},
   "outputs": [
    {
     "data": {
      "text/plain": [
       "[{'انتهای': 1,\n",
       "  'پیام': 1,\n",
       "  'گفت': 1,\n",
       "  'گو': 1,\n",
       "  'ش': 1,\n",
       "  'اعضا': 1,\n",
       "  'تصویب': 1,\n",
       "  'مورد': 1,\n",
       "  'برخی': 2,\n",
       "  'ایسنا': 1,\n",
       "  'بررس': 2,\n",
       "  'کمیسیون': 3,\n",
       "  'جلسه': 3,\n",
       "  'قرار': 1,\n",
       "  'حمایت': 1,\n",
       "  'امروز': 3,\n",
       "  'شورا': 1,\n",
       "  'سو': 1,\n",
       "  'خصوص': 1,\n",
       "  'فکر': 1,\n",
       "  'مواد': 3,\n",
       "  'فرهنگ': 2,\n",
       "  'اسلام': 1,\n",
       "  'مجلس': 2,\n",
       "  'فاطمه': 1,\n",
       "  'لایحه': 3,\n",
       "  'مالکیت': 1,\n",
       "  'محول': 1,\n",
       "  'سیده': 1,\n",
       "  'ذوالقدر': 1},\n",
       " {'انتهای': 1,\n",
       "  'پیام': 1,\n",
       "  'میلیون': 1,\n",
       "  'هزار': 1,\n",
       "  'بهبود': 1,\n",
       "  'هدف': 1,\n",
       "  'حجم': 2,\n",
       "  'منطقه': 1,\n",
       "  'احداث': 1,\n",
       "  'طول': 1,\n",
       "  'م': 1,\n",
       "  'سالیانه': 2,\n",
       "  'آبیاری': 1,\n",
       "  'افتتاح': 1,\n",
       "  'تاج': 1,\n",
       "  'سد': 1,\n",
       "  'رودخانه': 1,\n",
       "  'لنگرود': 1,\n",
       "  'هکتار': 1,\n",
       "  'مخزن': 1,\n",
       "  'مترمکعب': 1,\n",
       "  'تنظیمی': 1,\n",
       "  'لاستیکی': 1,\n",
       "  'گالشکلام': 1,\n",
       "  'شالیزارهای': 1,\n",
       "  'شلمانرود': 1},\n",
       " {'انتهای': 1,\n",
       "  'پیام': 1,\n",
       "  'برگزار': 1,\n",
       "  'نام': 1,\n",
       "  'توجه': 1,\n",
       "  'اظهار': 1,\n",
       "  'عدم': 1,\n",
       "  'ایسنا': 1,\n",
       "  'نسبت': 1,\n",
       "  'قرار': 1,\n",
       "  'گفته': 1,\n",
       "  'اجرا': 1,\n",
       "  'همچون': 1,\n",
       "  'جنوب': 1,\n",
       "  'قاسم': 1,\n",
       "  'اختصاص': 1,\n",
       "  'تحقیق': 1,\n",
       "  'مدیریتی': 1,\n",
       "  'بکارگیری': 1,\n",
       "  'احمد': 1,\n",
       "  'سایر': 2,\n",
       "  'متخصص': 1,\n",
       "  'قراردادهای': 1,\n",
       "  'شمال': 1,\n",
       "  'مراسم': 1,\n",
       "  'کلید': 1,\n",
       "  'طرح': 1,\n",
       "  'بودجه': 1,\n",
       "  'نیروهای': 2,\n",
       "  'مدارک': 1,\n",
       "  'تجارب': 1,\n",
       "  'تبعیض': 1,\n",
       "  'برکنار': 1,\n",
       "  'محور': 1,\n",
       "  'میل': 1,\n",
       "  'سفارش': 1,\n",
       "  'حیف': 1,\n",
       "  'پیچیده': 1,\n",
       "  'جامع': 1,\n",
       "  'محورهای': 2,\n",
       "  'غیرمرتبط': 1,\n",
       "  'تحصیلی': 1,\n",
       "  'لاشکی': 1,\n",
       "  'تفحص': 3,\n",
       "  'ایثارگر': 2,\n",
       "  'هوشمندسازی': 1,\n",
       "  'بنادر': 2,\n",
       "  'نجومی': 1,\n",
       "  'مجالس': 1},\n",
       " {'انتهای': 1,\n",
       "  'پیام': 1,\n",
       "  'گفت': 1,\n",
       "  'تایید': 1,\n",
       "  'خبر': 1,\n",
       "  'ایسنا': 1,\n",
       "  'شرکت': 1,\n",
       "  'اطلاع': 1,\n",
       "  'پرواز': 1,\n",
       "  'امام': 1,\n",
       "  'زمین': 1,\n",
       "  'متعلق': 1,\n",
       "  'هواپیمایی': 1,\n",
       "  'فرودگاه': 2,\n",
       "  'نشسته': 1,\n",
       "  'خمینی': 1,\n",
       "  'هواپیمای': 1,\n",
       "  'ایرباس': 1,\n",
       "  'مهرآباد': 1,\n",
       "  'ایرتور': 1},\n",
       " {'انتهای': 1,\n",
       "  'پیام': 1,\n",
       "  'شهردار': 2,\n",
       "  'گفت': 1,\n",
       "  'گو': 1,\n",
       "  'درباره': 1,\n",
       "  'نماینده': 2,\n",
       "  'ش': 1,\n",
       "  'نظارت': 3,\n",
       "  'اساس': 1,\n",
       "  'اما': 1,\n",
       "  'همین': 1,\n",
       "  'پرداخت': 1,\n",
       "  'هیات': 3,\n",
       "  'ارائه': 1,\n",
       "  'قابل': 1,\n",
       "  'کننده': 1,\n",
       "  'تشخیص': 1,\n",
       "  'آقا': 1,\n",
       "  'حاضر': 1,\n",
       "  'ادعا': 1,\n",
       "  'دلایل': 1,\n",
       "  'مستند': 1,\n",
       "  'تحقیق': 1,\n",
       "  'قبول': 1,\n",
       "  'قانع': 1,\n",
       "  'ملارد': 1,\n",
       "  'ایشان': 1,\n",
       "  'اخیر': 2,\n",
       "  'رفتار': 2,\n",
       "  'درخصوص': 1,\n",
       "  'طرح': 1,\n",
       "  'مجلس': 1,\n",
       "  'نشست': 2,\n",
       "  'موس': 1,\n",
       "  'اسناد': 1,\n",
       "  'میرسلیم': 1,\n",
       "  'تفحص': 1,\n",
       "  'غضنفرآبادی': 1,\n",
       "  'نیاوردن': 1}]"
      ]
     },
     "execution_count": 247,
     "metadata": {},
     "output_type": "execute_result"
    }
   ],
   "source": [
    "centers"
   ]
  },
  {
   "cell_type": "code",
   "execution_count": 236,
   "metadata": {},
   "outputs": [],
   "source": [
    "query = 'افتتاح آبیاری باغ'"
   ]
  },
  {
   "cell_type": "code",
   "execution_count": 237,
   "metadata": {},
   "outputs": [
    {
     "name": "stderr",
     "output_type": "stream",
     "text": [
      "100%|██████████| 1/1 [00:00<00:00, 327.76it/s]"
     ]
    },
    {
     "name": "stdout",
     "output_type": "stream",
     "text": [
      "گوه\n",
      "گوه\n",
      "-54.64889577880403 -inf\n",
      "0 -54.64889577880403\n",
      "گوه\n",
      "1\n"
     ]
    },
    {
     "name": "stderr",
     "output_type": "stream",
     "text": [
      "\n"
     ]
    }
   ],
   "source": [
    "results = get_result(10,query,centers,new_docs,documents)"
   ]
  },
  {
   "cell_type": "code",
   "execution_count": 238,
   "metadata": {},
   "outputs": [
    {
     "data": {
      "text/plain": [
       "[3727, 268, 1185, 2418, 3365, 3916, 4313, 5230, 5647, 5653]"
      ]
     },
     "execution_count": 238,
     "metadata": {},
     "output_type": "execute_result"
    }
   ],
   "source": [
    "results"
   ]
  },
  {
   "cell_type": "code",
   "execution_count": 239,
   "metadata": {},
   "outputs": [
    {
     "data": {
      "text/html": [
       "<div>\n",
       "<style scoped>\n",
       "    .dataframe tbody tr th:only-of-type {\n",
       "        vertical-align: middle;\n",
       "    }\n",
       "\n",
       "    .dataframe tbody tr th {\n",
       "        vertical-align: top;\n",
       "    }\n",
       "\n",
       "    .dataframe thead th {\n",
       "        text-align: right;\n",
       "    }\n",
       "</style>\n",
       "<table border=\"1\" class=\"dataframe\">\n",
       "  <thead>\n",
       "    <tr style=\"text-align: right;\">\n",
       "      <th></th>\n",
       "      <th>id</th>\n",
       "      <th>content</th>\n",
       "      <th>url</th>\n",
       "    </tr>\n",
       "  </thead>\n",
       "  <tbody>\n",
       "    <tr>\n",
       "      <th>268</th>\n",
       "      <td>269</td>\n",
       "      <td>به گزارش ایسنا، زنیت توانست با برتری ۴ بر ۲ بر...</td>\n",
       "      <td>https://www.isna.ir/news/99041611866/آزمون-قهر...</td>\n",
       "    </tr>\n",
       "    <tr>\n",
       "      <th>1185</th>\n",
       "      <td>1186</td>\n",
       "      <td>حسین نقیبی در گفتگو با ایسنا، درباره برگزاری د...</td>\n",
       "      <td>https://www.isna.ir/news/98040301555/حسن-یزدان...</td>\n",
       "    </tr>\n",
       "    <tr>\n",
       "      <th>2418</th>\n",
       "      <td>2419</td>\n",
       "      <td>به گزارش ایسنا، اظهارات یکی از مهمانان برنامه ...</td>\n",
       "      <td>https://www.isna.ir/news/99110906701/زاویه-دول...</td>\n",
       "    </tr>\n",
       "    <tr>\n",
       "      <th>3365</th>\n",
       "      <td>3366</td>\n",
       "      <td>**به گزارش ایسنا،** در مراسمی با حضور سورنا ست...</td>\n",
       "      <td>https://www.isna.ir/news/99022215951/ساخت-ربات...</td>\n",
       "    </tr>\n",
       "    <tr>\n",
       "      <th>3727</th>\n",
       "      <td>3728</td>\n",
       "      <td>به گزارش ایسنا، در طول سال‌های گذشته با توجه ب...</td>\n",
       "      <td>https://www.isna.ir/news/99060504758/چرا-کارت-...</td>\n",
       "    </tr>\n",
       "    <tr>\n",
       "      <th>3916</th>\n",
       "      <td>3917</td>\n",
       "      <td>حمید بردستانی با اشاره به اهمیت بالای اجرای طر...</td>\n",
       "      <td>https://www.isna.ir/news/99081308414/اجرای-طرح...</td>\n",
       "    </tr>\n",
       "    <tr>\n",
       "      <th>4313</th>\n",
       "      <td>4314</td>\n",
       "      <td>محمود نجفی عرب در گفت‌گو با ایسنا، با اشاره به...</td>\n",
       "      <td>https://www.isna.ir/news/98011604737/آیا-معافی...</td>\n",
       "    </tr>\n",
       "    <tr>\n",
       "      <th>5230</th>\n",
       "      <td>5231</td>\n",
       "      <td>علی لاریجانی عصر امروز 12 دی ماه در آئین تجلیل...</td>\n",
       "      <td>https://www.isna.ir/news/98101209165/جواب-توئی...</td>\n",
       "    </tr>\n",
       "    <tr>\n",
       "      <th>5647</th>\n",
       "      <td>5648</td>\n",
       "      <td>**به گزارش ایسنا،** انجمن علمی آموزش بهداشت و ...</td>\n",
       "      <td>https://www.isna.ir/news/99031308227/چند-راهکا...</td>\n",
       "    </tr>\n",
       "    <tr>\n",
       "      <th>5653</th>\n",
       "      <td>5654</td>\n",
       "      <td>**به گزارش ایسنا،** انجمن علمی آموزش بهداشت و ...</td>\n",
       "      <td>https://www.isna.ir/news/99031308227/چند-راهکا...</td>\n",
       "    </tr>\n",
       "  </tbody>\n",
       "</table>\n",
       "</div>"
      ],
      "text/plain": [
       "        id                                            content  \\\n",
       "268    269  به گزارش ایسنا، زنیت توانست با برتری ۴ بر ۲ بر...   \n",
       "1185  1186  حسین نقیبی در گفتگو با ایسنا، درباره برگزاری د...   \n",
       "2418  2419  به گزارش ایسنا، اظهارات یکی از مهمانان برنامه ...   \n",
       "3365  3366  **به گزارش ایسنا،** در مراسمی با حضور سورنا ست...   \n",
       "3727  3728  به گزارش ایسنا، در طول سال‌های گذشته با توجه ب...   \n",
       "3916  3917  حمید بردستانی با اشاره به اهمیت بالای اجرای طر...   \n",
       "4313  4314  محمود نجفی عرب در گفت‌گو با ایسنا، با اشاره به...   \n",
       "5230  5231  علی لاریجانی عصر امروز 12 دی ماه در آئین تجلیل...   \n",
       "5647  5648  **به گزارش ایسنا،** انجمن علمی آموزش بهداشت و ...   \n",
       "5653  5654  **به گزارش ایسنا،** انجمن علمی آموزش بهداشت و ...   \n",
       "\n",
       "                                                    url  \n",
       "268   https://www.isna.ir/news/99041611866/آزمون-قهر...  \n",
       "1185  https://www.isna.ir/news/98040301555/حسن-یزدان...  \n",
       "2418  https://www.isna.ir/news/99110906701/زاویه-دول...  \n",
       "3365  https://www.isna.ir/news/99022215951/ساخت-ربات...  \n",
       "3727  https://www.isna.ir/news/99060504758/چرا-کارت-...  \n",
       "3916  https://www.isna.ir/news/99081308414/اجرای-طرح...  \n",
       "4313  https://www.isna.ir/news/98011604737/آیا-معافی...  \n",
       "5230  https://www.isna.ir/news/98101209165/جواب-توئی...  \n",
       "5647  https://www.isna.ir/news/99031308227/چند-راهکا...  \n",
       "5653  https://www.isna.ir/news/99031308227/چند-راهکا...  "
      ]
     },
     "execution_count": 239,
     "metadata": {},
     "output_type": "execute_result"
    }
   ],
   "source": [
    "df[df.index.isin(results)]"
   ]
  },
  {
   "cell_type": "code",
   "execution_count": 240,
   "metadata": {},
   "outputs": [],
   "source": [
    "query = 'حقوق معلمان چند تومان است'"
   ]
  },
  {
   "cell_type": "code",
   "execution_count": 241,
   "metadata": {},
   "outputs": [
    {
     "name": "stderr",
     "output_type": "stream",
     "text": [
      "100%|██████████| 1/1 [00:00<00:00, 176.70it/s]"
     ]
    },
    {
     "name": "stdout",
     "output_type": "stream",
     "text": [
      "0 -inf\n",
      "گوه\n",
      "0\n"
     ]
    },
    {
     "name": "stderr",
     "output_type": "stream",
     "text": [
      "\n"
     ]
    }
   ],
   "source": [
    "results = get_result(10,query,centers,new_docs,documents)"
   ]
  },
  {
   "cell_type": "code",
   "execution_count": 227,
   "metadata": {},
   "outputs": [
    {
     "data": {
      "text/plain": [
       "[296, 6445, 3284, 3570, 5869, 6114, 4551, 5310, 4766, 2492]"
      ]
     },
     "execution_count": 227,
     "metadata": {},
     "output_type": "execute_result"
    }
   ],
   "source": [
    "results"
   ]
  },
  {
   "cell_type": "code",
   "execution_count": 228,
   "metadata": {},
   "outputs": [
    {
     "data": {
      "text/html": [
       "<div>\n",
       "<style scoped>\n",
       "    .dataframe tbody tr th:only-of-type {\n",
       "        vertical-align: middle;\n",
       "    }\n",
       "\n",
       "    .dataframe tbody tr th {\n",
       "        vertical-align: top;\n",
       "    }\n",
       "\n",
       "    .dataframe thead th {\n",
       "        text-align: right;\n",
       "    }\n",
       "</style>\n",
       "<table border=\"1\" class=\"dataframe\">\n",
       "  <thead>\n",
       "    <tr style=\"text-align: right;\">\n",
       "      <th></th>\n",
       "      <th>id</th>\n",
       "      <th>content</th>\n",
       "      <th>url</th>\n",
       "    </tr>\n",
       "  </thead>\n",
       "  <tbody>\n",
       "    <tr>\n",
       "      <th>296</th>\n",
       "      <td>297</td>\n",
       "      <td>به گزارش ایسنا، در جریان برگزاری مجمع عمومی سا...</td>\n",
       "      <td>https://www.isna.ir/news/99042518993/گزارش-مال...</td>\n",
       "    </tr>\n",
       "    <tr>\n",
       "      <th>2492</th>\n",
       "      <td>2493</td>\n",
       "      <td>به گزارش ایسنا، بابک نگاهداری گفت: ایران اسلام...</td>\n",
       "      <td>https://www.isna.ir/news/99122519381/سامانه-ار...</td>\n",
       "    </tr>\n",
       "    <tr>\n",
       "      <th>3284</th>\n",
       "      <td>3285</td>\n",
       "      <td>محمد خدابخشی در گفت‌وگو با ایسنا اظهار کرد: جل...</td>\n",
       "      <td>https://www.isna.ir/news/99020201675/بررسی-تفر...</td>\n",
       "    </tr>\n",
       "    <tr>\n",
       "      <th>3570</th>\n",
       "      <td>3571</td>\n",
       "      <td>به گزارش ایسنا، به گفته واردکنندگانی که در صف ...</td>\n",
       "      <td>https://www.isna.ir/news/99042619732/صادرکنندگ...</td>\n",
       "    </tr>\n",
       "    <tr>\n",
       "      <th>4551</th>\n",
       "      <td>4552</td>\n",
       "      <td>به گزارش ایسنا، حمدالله کریمی روز چهارشنبه در ...</td>\n",
       "      <td>https://www.isna.ir/news/98030803635/جاده-ای-ک...</td>\n",
       "    </tr>\n",
       "    <tr>\n",
       "      <th>4766</th>\n",
       "      <td>4767</td>\n",
       "      <td>به گزارش ایسنا، جدیدترین آمار منتشر شده از سوی...</td>\n",
       "      <td>https://www.isna.ir/news/98051005054/رشد-تولید...</td>\n",
       "    </tr>\n",
       "    <tr>\n",
       "      <th>5310</th>\n",
       "      <td>5311</td>\n",
       "      <td>به گزارش ایسنا، امروز (سه‌شنبه ۱۵ بهمن‌ماه) فر...</td>\n",
       "      <td>https://www.isna.ir/news/98111511025/رشد-۵۰-در...</td>\n",
       "    </tr>\n",
       "    <tr>\n",
       "      <th>5869</th>\n",
       "      <td>5870</td>\n",
       "      <td>به گزارش ایسنا، کادر درمانی و بیماران بیمارستا...</td>\n",
       "      <td>https://www.isna.ir/news/99051712874/اجرای-موس...</td>\n",
       "    </tr>\n",
       "    <tr>\n",
       "      <th>6114</th>\n",
       "      <td>6115</td>\n",
       "      <td>سعید کشمیری با بیان اینکه تعداد بیماران بستری ...</td>\n",
       "      <td>https://www.isna.ir/news/99072518690/۸-شهرستان...</td>\n",
       "    </tr>\n",
       "    <tr>\n",
       "      <th>6445</th>\n",
       "      <td>6446</td>\n",
       "      <td>**به گزارش ایسنا،** دکتر سیماسادات لاری گفت: ا...</td>\n",
       "      <td>https://www.isna.ir/news/99120301765/۷۴-فوتی-و...</td>\n",
       "    </tr>\n",
       "  </tbody>\n",
       "</table>\n",
       "</div>"
      ],
      "text/plain": [
       "        id                                            content  \\\n",
       "296    297  به گزارش ایسنا، در جریان برگزاری مجمع عمومی سا...   \n",
       "2492  2493  به گزارش ایسنا، بابک نگاهداری گفت: ایران اسلام...   \n",
       "3284  3285  محمد خدابخشی در گفت‌وگو با ایسنا اظهار کرد: جل...   \n",
       "3570  3571  به گزارش ایسنا، به گفته واردکنندگانی که در صف ...   \n",
       "4551  4552  به گزارش ایسنا، حمدالله کریمی روز چهارشنبه در ...   \n",
       "4766  4767  به گزارش ایسنا، جدیدترین آمار منتشر شده از سوی...   \n",
       "5310  5311  به گزارش ایسنا، امروز (سه‌شنبه ۱۵ بهمن‌ماه) فر...   \n",
       "5869  5870  به گزارش ایسنا، کادر درمانی و بیماران بیمارستا...   \n",
       "6114  6115  سعید کشمیری با بیان اینکه تعداد بیماران بستری ...   \n",
       "6445  6446  **به گزارش ایسنا،** دکتر سیماسادات لاری گفت: ا...   \n",
       "\n",
       "                                                    url  \n",
       "296   https://www.isna.ir/news/99042518993/گزارش-مال...  \n",
       "2492  https://www.isna.ir/news/99122519381/سامانه-ار...  \n",
       "3284  https://www.isna.ir/news/99020201675/بررسی-تفر...  \n",
       "3570  https://www.isna.ir/news/99042619732/صادرکنندگ...  \n",
       "4551  https://www.isna.ir/news/98030803635/جاده-ای-ک...  \n",
       "4766  https://www.isna.ir/news/98051005054/رشد-تولید...  \n",
       "5310  https://www.isna.ir/news/98111511025/رشد-۵۰-در...  \n",
       "5869  https://www.isna.ir/news/99051712874/اجرای-موس...  \n",
       "6114  https://www.isna.ir/news/99072518690/۸-شهرستان...  \n",
       "6445  https://www.isna.ir/news/99120301765/۷۴-فوتی-و...  "
      ]
     },
     "execution_count": 228,
     "metadata": {},
     "output_type": "execute_result"
    }
   ],
   "source": [
    "df[df.index.isin(results)]"
   ]
  },
  {
   "cell_type": "code",
   "execution_count": 54,
   "metadata": {},
   "outputs": [
    {
     "name": "stderr",
     "output_type": "stream",
     "text": [
      " 55%|█████▌    | 6302/11437 [07:55<06:27, 13.25it/s]\n"
     ]
    },
    {
     "ename": "KeyboardInterrupt",
     "evalue": "",
     "output_type": "error",
     "traceback": [
      "\u001b[0;31m---------------------------------------------------------------------------\u001b[0m",
      "\u001b[0;31mKeyboardInterrupt\u001b[0m                         Traceback (most recent call last)",
      "\u001b[0;32m<ipython-input-54-4f02464046d7>\u001b[0m in \u001b[0;36m<module>\u001b[0;34m\u001b[0m\n\u001b[0;32m----> 1\u001b[0;31m \u001b[0mwords_11k\u001b[0m \u001b[0;34m=\u001b[0m \u001b[0mnormalize_words\u001b[0m\u001b[0;34m(\u001b[0m\u001b[0mtext_list11\u001b[0m\u001b[0;34m)\u001b[0m\u001b[0;34m\u001b[0m\u001b[0;34m\u001b[0m\u001b[0m\n\u001b[0m",
      "\u001b[0;32m<ipython-input-23-ffd24a62a267>\u001b[0m in \u001b[0;36mnormalize_words\u001b[0;34m(text_list)\u001b[0m\n\u001b[1;32m     20\u001b[0m       \u001b[0;32mfor\u001b[0m \u001b[0ms\u001b[0m \u001b[0;32min\u001b[0m \u001b[0msuffix\u001b[0m\u001b[0;34m:\u001b[0m\u001b[0;34m\u001b[0m\u001b[0;34m\u001b[0m\u001b[0m\n\u001b[1;32m     21\u001b[0m         \u001b[0;32mif\u001b[0m \u001b[0ms\u001b[0m \u001b[0;32min\u001b[0m \u001b[0mtemp_words\u001b[0m\u001b[0;34m[\u001b[0m\u001b[0mj\u001b[0m\u001b[0;34m]\u001b[0m\u001b[0;34m:\u001b[0m\u001b[0;34m\u001b[0m\u001b[0;34m\u001b[0m\u001b[0m\n\u001b[0;32m---> 22\u001b[0;31m           \u001b[0mtemp_words\u001b[0m\u001b[0;34m[\u001b[0m\u001b[0mj\u001b[0m\u001b[0;34m]\u001b[0m \u001b[0;34m=\u001b[0m \u001b[0mdelete_suffix\u001b[0m\u001b[0;34m(\u001b[0m\u001b[0mtemp_words\u001b[0m\u001b[0;34m[\u001b[0m\u001b[0mj\u001b[0m\u001b[0;34m]\u001b[0m\u001b[0;34m,\u001b[0m\u001b[0ms\u001b[0m\u001b[0;34m,\u001b[0m\u001b[0mu\u001b[0m\u001b[0;34m=\u001b[0m\u001b[0;36m0\u001b[0m\u001b[0;34m)\u001b[0m\u001b[0;34m\u001b[0m\u001b[0;34m\u001b[0m\u001b[0m\n\u001b[0m\u001b[1;32m     23\u001b[0m           \u001b[0;32mbreak\u001b[0m\u001b[0;34m\u001b[0m\u001b[0;34m\u001b[0m\u001b[0m\n\u001b[1;32m     24\u001b[0m     \u001b[0mtemp_words\u001b[0m \u001b[0;34m=\u001b[0m \u001b[0;34m[\u001b[0m\u001b[0mw\u001b[0m \u001b[0;32mfor\u001b[0m \u001b[0mw\u001b[0m \u001b[0;32min\u001b[0m \u001b[0mtemp_words\u001b[0m \u001b[0;32mif\u001b[0m \u001b[0mw\u001b[0m\u001b[0;34m.\u001b[0m\u001b[0mstrip\u001b[0m\u001b[0;34m(\u001b[0m\u001b[0;34m)\u001b[0m \u001b[0;32mnot\u001b[0m \u001b[0;32min\u001b[0m \u001b[0mstop_words\u001b[0m\u001b[0;34m]\u001b[0m\u001b[0;34m\u001b[0m\u001b[0;34m\u001b[0m\u001b[0m\n",
      "\u001b[0;32m<ipython-input-12-03d633495e5c>\u001b[0m in \u001b[0;36mdelete_suffix\u001b[0;34m(word, suffix, u)\u001b[0m\n\u001b[1;32m      3\u001b[0m   \u001b[0;32mif\u001b[0m \u001b[0mu\u001b[0m \u001b[0;32mand\u001b[0m \u001b[0;34m'\\u200c'\u001b[0m \u001b[0;32min\u001b[0m \u001b[0mword\u001b[0m \u001b[0;32mand\u001b[0m \u001b[0mword\u001b[0m\u001b[0;34m.\u001b[0m\u001b[0mindex\u001b[0m\u001b[0;34m(\u001b[0m\u001b[0;34m'\\u200c'\u001b[0m\u001b[0;34m)\u001b[0m \u001b[0;34m==\u001b[0m \u001b[0mword_end\u001b[0m \u001b[0;34m-\u001b[0m \u001b[0;36m1\u001b[0m \u001b[0;32mand\u001b[0m \u001b[0mword\u001b[0m\u001b[0;34m.\u001b[0m\u001b[0mendswith\u001b[0m\u001b[0;34m(\u001b[0m\u001b[0msuffix\u001b[0m\u001b[0;34m)\u001b[0m\u001b[0;34m:\u001b[0m\u001b[0;34m\u001b[0m\u001b[0;34m\u001b[0m\u001b[0m\n\u001b[1;32m      4\u001b[0m     \u001b[0mword\u001b[0m \u001b[0;34m=\u001b[0m \u001b[0mword\u001b[0m\u001b[0;34m[\u001b[0m\u001b[0;34m:\u001b[0m\u001b[0mword_end\u001b[0m\u001b[0;34m-\u001b[0m\u001b[0;36m1\u001b[0m\u001b[0;34m]\u001b[0m\u001b[0;34m\u001b[0m\u001b[0;34m\u001b[0m\u001b[0m\n\u001b[0;32m----> 5\u001b[0;31m   \u001b[0;32melif\u001b[0m \u001b[0;32mnot\u001b[0m \u001b[0mu\u001b[0m \u001b[0;32mand\u001b[0m \u001b[0msuffix\u001b[0m \u001b[0;32min\u001b[0m \u001b[0mword\u001b[0m \u001b[0;32mand\u001b[0m \u001b[0mword\u001b[0m\u001b[0;34m.\u001b[0m\u001b[0mreplace\u001b[0m\u001b[0;34m(\u001b[0m\u001b[0msuffix\u001b[0m\u001b[0;34m,\u001b[0m\u001b[0;34m''\u001b[0m\u001b[0;34m)\u001b[0m \u001b[0;32min\u001b[0m \u001b[0mall_words\u001b[0m \u001b[0;32mand\u001b[0m \u001b[0mword\u001b[0m\u001b[0;34m.\u001b[0m\u001b[0mendswith\u001b[0m\u001b[0;34m(\u001b[0m\u001b[0msuffix\u001b[0m\u001b[0;34m)\u001b[0m\u001b[0;34m:\u001b[0m\u001b[0;34m\u001b[0m\u001b[0;34m\u001b[0m\u001b[0m\n\u001b[0m\u001b[1;32m      6\u001b[0m     \u001b[0;32mif\u001b[0m \u001b[0msuffix\u001b[0m \u001b[0;34m==\u001b[0m \u001b[0;34m'گان'\u001b[0m\u001b[0;34m:\u001b[0m\u001b[0;34m\u001b[0m\u001b[0;34m\u001b[0m\u001b[0m\n\u001b[1;32m      7\u001b[0m       \u001b[0mword\u001b[0m \u001b[0;34m=\u001b[0m \u001b[0mword\u001b[0m\u001b[0;34m.\u001b[0m\u001b[0mreplace\u001b[0m\u001b[0;34m(\u001b[0m\u001b[0msuffix\u001b[0m\u001b[0;34m,\u001b[0m\u001b[0;34m'ه'\u001b[0m\u001b[0;34m)\u001b[0m\u001b[0;34m\u001b[0m\u001b[0;34m\u001b[0m\u001b[0m\n",
      "\u001b[0;31mKeyboardInterrupt\u001b[0m: "
     ]
    }
   ],
   "source": [
    "words_11k = normalize_words(text_list11)"
   ]
  },
  {
   "cell_type": "code",
   "execution_count": 53,
   "metadata": {},
   "outputs": [],
   "source": [
    "text_list11 = news_11k.content.to_list()"
   ]
  },
  {
   "cell_type": "code",
   "execution_count": null,
   "metadata": {},
   "outputs": [],
   "source": []
  }
 ],
 "metadata": {
  "colab": {
   "collapsed_sections": [],
   "name": "search_engine.ipynb",
   "provenance": []
  },
  "kernelspec": {
   "display_name": "Python 3",
   "language": "python",
   "name": "python3"
  },
  "language_info": {
   "codemirror_mode": {
    "name": "ipython",
    "version": 3
   },
   "file_extension": ".py",
   "mimetype": "text/x-python",
   "name": "python",
   "nbconvert_exporter": "python",
   "pygments_lexer": "ipython3",
   "version": "3.6.9"
  }
 },
 "nbformat": 4,
 "nbformat_minor": 1
}
